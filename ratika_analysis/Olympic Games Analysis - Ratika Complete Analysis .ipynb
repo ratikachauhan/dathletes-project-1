{
 "cells": [
  {
   "cell_type": "code",
   "execution_count": 1,
   "id": "7b91f759",
   "metadata": {},
   "outputs": [],
   "source": [
    "import pandas as pd\n",
    "import numpy as np\n",
    "\n",
    "# For data visualization \n",
    "import seaborn as sb \n",
    "import matplotlib as mpl\n",
    "import matplotlib.pyplot as plt\n",
    "import scipy.stats as stats"
   ]
  },
  {
   "cell_type": "markdown",
   "id": "79b572f6",
   "metadata": {},
   "source": [
    "# 1. Importing Datasets "
   ]
  },
  {
   "cell_type": "code",
   "execution_count": 2,
   "id": "d9d4eac2",
   "metadata": {},
   "outputs": [],
   "source": [
    "#120OlympicHistory_AthletesResults\n",
    "\n",
    "athlete_events = pd.read_csv('../Datasets/120OlympicHistory_AthletesResults_dataset/athlete_events.csv')\n",
    "regions = pd.read_csv('../Datasets/120OlympicHistory_AthletesResults_dataset/noc_regions.csv')\n"
   ]
  },
  {
   "cell_type": "markdown",
   "id": "8e2fd5e5",
   "metadata": {},
   "source": [
    "# 2. Data Exploration - 120 Olympic History"
   ]
  },
  {
   "cell_type": "markdown",
   "id": "e4751d94",
   "metadata": {},
   "source": [
    "2.1 Exploring athlete_events dataset"
   ]
  },
  {
   "cell_type": "code",
   "execution_count": 3,
   "id": "98e0ab04",
   "metadata": {},
   "outputs": [],
   "source": [
    "#athlete_events.info()"
   ]
  },
  {
   "cell_type": "code",
   "execution_count": 4,
   "id": "64a6932c",
   "metadata": {},
   "outputs": [],
   "source": [
    "#athlete_events.describe()"
   ]
  },
  {
   "cell_type": "markdown",
   "id": "a4999296",
   "metadata": {},
   "source": [
    "# 3.  Data Cleaning"
   ]
  },
  {
   "cell_type": "markdown",
   "id": "981e481e",
   "metadata": {},
   "source": [
    "3.1 Check for null values"
   ]
  },
  {
   "cell_type": "code",
   "execution_count": 5,
   "id": "68c66521",
   "metadata": {},
   "outputs": [
    {
     "name": "stdout",
     "output_type": "stream",
     "text": [
      "ID             0\n",
      "Name           0\n",
      "Sex            0\n",
      "Age         9474\n",
      "Height     60171\n",
      "Weight     62875\n",
      "Team           0\n",
      "NOC            0\n",
      "Games          0\n",
      "Year           0\n",
      "Season         0\n",
      "City           0\n",
      "Sport          0\n",
      "Event          0\n",
      "Medal     231333\n",
      "dtype: int64\n"
     ]
    }
   ],
   "source": [
    "print(athlete_events.isnull().sum())"
   ]
  },
  {
   "cell_type": "markdown",
   "id": "656b3399",
   "metadata": {},
   "source": [
    "Null Values found in Age, Height, Weight and Medals"
   ]
  },
  {
   "cell_type": "code",
   "execution_count": 6,
   "id": "0ddb6d4e",
   "metadata": {},
   "outputs": [],
   "source": [
    "# Replacing Null VAlues in Medal by No Medal\n",
    "\n",
    "athlete_events['Medal'].fillna('No Medal', inplace = True)\n",
    "#print(athlete_events.isnull().sum())"
   ]
  },
  {
   "cell_type": "markdown",
   "id": "e3b419af",
   "metadata": {},
   "source": [
    "# 4. Merging  athlete_events and regions datasets\n"
   ]
  },
  {
   "cell_type": "markdown",
   "id": "97a6b0ca",
   "metadata": {},
   "source": [
    "4.1 Merging dataset to get a combined set of athlete events and regions.\n",
    "Complete dataset name \"olympics_dataset\""
   ]
  },
  {
   "cell_type": "code",
   "execution_count": 7,
   "id": "7bfbd945",
   "metadata": {},
   "outputs": [
    {
     "data": {
      "text/html": [
       "<div>\n",
       "<style scoped>\n",
       "    .dataframe tbody tr th:only-of-type {\n",
       "        vertical-align: middle;\n",
       "    }\n",
       "\n",
       "    .dataframe tbody tr th {\n",
       "        vertical-align: top;\n",
       "    }\n",
       "\n",
       "    .dataframe thead th {\n",
       "        text-align: right;\n",
       "    }\n",
       "</style>\n",
       "<table border=\"1\" class=\"dataframe\">\n",
       "  <thead>\n",
       "    <tr style=\"text-align: right;\">\n",
       "      <th></th>\n",
       "      <th>ID</th>\n",
       "      <th>Name</th>\n",
       "      <th>Sex</th>\n",
       "      <th>Age</th>\n",
       "      <th>Height</th>\n",
       "      <th>Weight</th>\n",
       "      <th>Team</th>\n",
       "      <th>NOC</th>\n",
       "      <th>Games</th>\n",
       "      <th>Year</th>\n",
       "      <th>Season</th>\n",
       "      <th>City</th>\n",
       "      <th>Sport</th>\n",
       "      <th>Event</th>\n",
       "      <th>Medal</th>\n",
       "      <th>region</th>\n",
       "      <th>notes</th>\n",
       "    </tr>\n",
       "  </thead>\n",
       "  <tbody>\n",
       "    <tr>\n",
       "      <th>0</th>\n",
       "      <td>1</td>\n",
       "      <td>A Dijiang</td>\n",
       "      <td>M</td>\n",
       "      <td>24.0</td>\n",
       "      <td>180.0</td>\n",
       "      <td>80.0</td>\n",
       "      <td>China</td>\n",
       "      <td>CHN</td>\n",
       "      <td>1992 Summer</td>\n",
       "      <td>1992</td>\n",
       "      <td>Summer</td>\n",
       "      <td>Barcelona</td>\n",
       "      <td>Basketball</td>\n",
       "      <td>Basketball Men's Basketball</td>\n",
       "      <td>No Medal</td>\n",
       "      <td>China</td>\n",
       "      <td>NaN</td>\n",
       "    </tr>\n",
       "    <tr>\n",
       "      <th>1</th>\n",
       "      <td>2</td>\n",
       "      <td>A Lamusi</td>\n",
       "      <td>M</td>\n",
       "      <td>23.0</td>\n",
       "      <td>170.0</td>\n",
       "      <td>60.0</td>\n",
       "      <td>China</td>\n",
       "      <td>CHN</td>\n",
       "      <td>2012 Summer</td>\n",
       "      <td>2012</td>\n",
       "      <td>Summer</td>\n",
       "      <td>London</td>\n",
       "      <td>Judo</td>\n",
       "      <td>Judo Men's Extra-Lightweight</td>\n",
       "      <td>No Medal</td>\n",
       "      <td>China</td>\n",
       "      <td>NaN</td>\n",
       "    </tr>\n",
       "    <tr>\n",
       "      <th>2</th>\n",
       "      <td>3</td>\n",
       "      <td>Gunnar Nielsen Aaby</td>\n",
       "      <td>M</td>\n",
       "      <td>24.0</td>\n",
       "      <td>NaN</td>\n",
       "      <td>NaN</td>\n",
       "      <td>Denmark</td>\n",
       "      <td>DEN</td>\n",
       "      <td>1920 Summer</td>\n",
       "      <td>1920</td>\n",
       "      <td>Summer</td>\n",
       "      <td>Antwerpen</td>\n",
       "      <td>Football</td>\n",
       "      <td>Football Men's Football</td>\n",
       "      <td>No Medal</td>\n",
       "      <td>Denmark</td>\n",
       "      <td>NaN</td>\n",
       "    </tr>\n",
       "    <tr>\n",
       "      <th>3</th>\n",
       "      <td>4</td>\n",
       "      <td>Edgar Lindenau Aabye</td>\n",
       "      <td>M</td>\n",
       "      <td>34.0</td>\n",
       "      <td>NaN</td>\n",
       "      <td>NaN</td>\n",
       "      <td>Denmark/Sweden</td>\n",
       "      <td>DEN</td>\n",
       "      <td>1900 Summer</td>\n",
       "      <td>1900</td>\n",
       "      <td>Summer</td>\n",
       "      <td>Paris</td>\n",
       "      <td>Tug-Of-War</td>\n",
       "      <td>Tug-Of-War Men's Tug-Of-War</td>\n",
       "      <td>Gold</td>\n",
       "      <td>Denmark</td>\n",
       "      <td>NaN</td>\n",
       "    </tr>\n",
       "    <tr>\n",
       "      <th>4</th>\n",
       "      <td>5</td>\n",
       "      <td>Christine Jacoba Aaftink</td>\n",
       "      <td>F</td>\n",
       "      <td>21.0</td>\n",
       "      <td>185.0</td>\n",
       "      <td>82.0</td>\n",
       "      <td>Netherlands</td>\n",
       "      <td>NED</td>\n",
       "      <td>1988 Winter</td>\n",
       "      <td>1988</td>\n",
       "      <td>Winter</td>\n",
       "      <td>Calgary</td>\n",
       "      <td>Speed Skating</td>\n",
       "      <td>Speed Skating Women's 500 metres</td>\n",
       "      <td>No Medal</td>\n",
       "      <td>Netherlands</td>\n",
       "      <td>NaN</td>\n",
       "    </tr>\n",
       "  </tbody>\n",
       "</table>\n",
       "</div>"
      ],
      "text/plain": [
       "   ID                      Name Sex   Age  Height  Weight            Team  \\\n",
       "0   1                 A Dijiang   M  24.0   180.0    80.0           China   \n",
       "1   2                  A Lamusi   M  23.0   170.0    60.0           China   \n",
       "2   3       Gunnar Nielsen Aaby   M  24.0     NaN     NaN         Denmark   \n",
       "3   4      Edgar Lindenau Aabye   M  34.0     NaN     NaN  Denmark/Sweden   \n",
       "4   5  Christine Jacoba Aaftink   F  21.0   185.0    82.0     Netherlands   \n",
       "\n",
       "   NOC        Games  Year  Season       City          Sport  \\\n",
       "0  CHN  1992 Summer  1992  Summer  Barcelona     Basketball   \n",
       "1  CHN  2012 Summer  2012  Summer     London           Judo   \n",
       "2  DEN  1920 Summer  1920  Summer  Antwerpen       Football   \n",
       "3  DEN  1900 Summer  1900  Summer      Paris     Tug-Of-War   \n",
       "4  NED  1988 Winter  1988  Winter    Calgary  Speed Skating   \n",
       "\n",
       "                              Event     Medal       region notes  \n",
       "0       Basketball Men's Basketball  No Medal        China   NaN  \n",
       "1      Judo Men's Extra-Lightweight  No Medal        China   NaN  \n",
       "2           Football Men's Football  No Medal      Denmark   NaN  \n",
       "3       Tug-Of-War Men's Tug-Of-War      Gold      Denmark   NaN  \n",
       "4  Speed Skating Women's 500 metres  No Medal  Netherlands   NaN  "
      ]
     },
     "execution_count": 7,
     "metadata": {},
     "output_type": "execute_result"
    }
   ],
   "source": [
    "olympics_dataset = pd.merge(athlete_events, regions, on = \"NOC\", how = \"left\")\n",
    "olympics_dataset.head()"
   ]
  },
  {
   "cell_type": "markdown",
   "id": "c68cbc0f",
   "metadata": {},
   "source": [
    "4.2 Exploring complete dataset"
   ]
  },
  {
   "cell_type": "code",
   "execution_count": 8,
   "id": "5a836f68",
   "metadata": {},
   "outputs": [
    {
     "name": "stdout",
     "output_type": "stream",
     "text": [
      "Number of Olympic Seasons Held : 35\n",
      "Number of Countries Participated : 230\n",
      "Number of Players Participated : 134732\n",
      "Number of Sports Conducted : 66\n",
      "Number of Medals Won :\n",
      " No Medal    231333\n",
      "Gold         13372\n",
      "Bronze       13295\n",
      "Silver       13116\n",
      "Name: Medal, dtype: int64\n"
     ]
    }
   ],
   "source": [
    "print(\"Number of Olympic Seasons Held :\", olympics_dataset['Year'].nunique())\n",
    "print(\"Number of Countries Participated :\", olympics_dataset['NOC'].nunique())\n",
    "print(\"Number of Players Participated :\", olympics_dataset['Name'].nunique())\n",
    "print(\"Number of Sports Conducted :\", olympics_dataset['Sport'].nunique())\n",
    "#print(\"Number of Medals Won :\\n\", olympics_dataset['Season'].dropna().value_counts())\n",
    "print(\"Number of Medals Won :\\n\", olympics_dataset['Medal'].dropna().value_counts())"
   ]
  },
  {
   "cell_type": "markdown",
   "id": "d576a012",
   "metadata": {},
   "source": [
    "# Subset data for  Soviet Union & Russia / Former Soviet States - *Complete Analysis\n"
   ]
  },
  {
   "cell_type": "code",
   "execution_count": 9,
   "id": "90fba9f0",
   "metadata": {},
   "outputs": [],
   "source": [
    "complete_noc_list = ['URS','EUN','RUS','ARM','MDA','EST','LAT','LTU','GEO','AZE','TJK','KGZ','BLR','UZB','TKM','UKR','KAZ']\n",
    "\n",
    "#The former Soviet states referenced as OTHERS  are Armenia, Azerbaijan, Belarus, Estonia, Georgia, \n",
    "#Kazakhstan, Kyrgyzstan, Latvia, Lithuania, Moldova, Tajikistan, Turkmenistan, Ukraine and Uzbekistan\n",
    "other_counties_list= ['ARM','MDA','EST','LAT','LTU','GEO','AZE','TJK','KGZ','BLR','UZB','TKM','UKR','KAZ']"
   ]
  },
  {
   "cell_type": "code",
   "execution_count": 10,
   "id": "3e8acd9d",
   "metadata": {},
   "outputs": [],
   "source": [
    "#Includes Soviet Union, Russia and other countries part of former USSR -*Added Later\n",
    "complete_subset_df =olympics_dataset[olympics_dataset['NOC'].isin(complete_noc_list) \n",
    "                    & (olympics_dataset['Year'] >= 1956) & (olympics_dataset['Year'] <= 2012)]\n",
    "\n",
    "# Complete Dataset for Russia and Soviet Union [1956, 2012]\n",
    "subset_df = complete_subset_df.loc[((olympics_dataset['NOC'] == 'URS')|(olympics_dataset['NOC'] == 'RUS')| (olympics_dataset['NOC'] == 'EUN')) \n",
    "            & (olympics_dataset['Year'] >= 1956) & (olympics_dataset['Year'] <= 2012)]\n",
    "\n",
    "#USSR Dataset [1956 - 1992]\n",
    "ussr_df = complete_subset_df.loc[((complete_subset_df['NOC'] == 'URS' )|(complete_subset_df['NOC'] == 'EUN'))]\n",
    "\n",
    "# Russia DataSet [1994 - 2012]\n",
    "russia_df = complete_subset_df.loc[(complete_subset_df['NOC'] == 'RUS')]\n",
    "\n",
    "#other countries dataset [1992 - 2012]\n",
    "other_countries_df =complete_subset_df[complete_subset_df['NOC'].isin(other_counties_list)]"
   ]
  },
  {
   "cell_type": "markdown",
   "id": "493be903",
   "metadata": {},
   "source": [
    "# Compete Analysis  Soviet Union & Russia / Former Soviet States\n"
   ]
  },
  {
   "cell_type": "code",
   "execution_count": 11,
   "id": "556fd6a7",
   "metadata": {},
   "outputs": [],
   "source": [
    "#replacing other countries NOC by common name 'OTHERS'\n",
    "complete_subset_df = complete_subset_df.replace(other_counties_list, \"OTHERS\")\n",
    "\n",
    "#Medal Subset for complete dataset\n",
    "medal_complete_subset_df = complete_subset_df .loc[(complete_subset_df ['Medal'] != 'No Medal')]"
   ]
  },
  {
   "cell_type": "code",
   "execution_count": 12,
   "id": "57ff6086",
   "metadata": {},
   "outputs": [
    {
     "data": {
      "text/html": [
       "<div>\n",
       "<style scoped>\n",
       "    .dataframe tbody tr th:only-of-type {\n",
       "        vertical-align: middle;\n",
       "    }\n",
       "\n",
       "    .dataframe tbody tr th {\n",
       "        vertical-align: top;\n",
       "    }\n",
       "\n",
       "    .dataframe thead th {\n",
       "        text-align: right;\n",
       "    }\n",
       "</style>\n",
       "<table border=\"1\" class=\"dataframe\">\n",
       "  <thead>\n",
       "    <tr style=\"text-align: right;\">\n",
       "      <th></th>\n",
       "      <th>Year</th>\n",
       "      <th>NOC</th>\n",
       "      <th>Season</th>\n",
       "      <th>Athlete Count</th>\n",
       "      <th>Medal Count</th>\n",
       "    </tr>\n",
       "  </thead>\n",
       "  <tbody>\n",
       "    <tr>\n",
       "      <th>0</th>\n",
       "      <td>1956</td>\n",
       "      <td>URS</td>\n",
       "      <td>Summer</td>\n",
       "      <td>411</td>\n",
       "      <td>169.0</td>\n",
       "    </tr>\n",
       "    <tr>\n",
       "      <th>1</th>\n",
       "      <td>1956</td>\n",
       "      <td>URS</td>\n",
       "      <td>Winter</td>\n",
       "      <td>81</td>\n",
       "      <td>37.0</td>\n",
       "    </tr>\n",
       "    <tr>\n",
       "      <th>2</th>\n",
       "      <td>1960</td>\n",
       "      <td>URS</td>\n",
       "      <td>Summer</td>\n",
       "      <td>414</td>\n",
       "      <td>169.0</td>\n",
       "    </tr>\n",
       "    <tr>\n",
       "      <th>3</th>\n",
       "      <td>1960</td>\n",
       "      <td>URS</td>\n",
       "      <td>Winter</td>\n",
       "      <td>91</td>\n",
       "      <td>42.0</td>\n",
       "    </tr>\n",
       "    <tr>\n",
       "      <th>4</th>\n",
       "      <td>1964</td>\n",
       "      <td>URS</td>\n",
       "      <td>Summer</td>\n",
       "      <td>463</td>\n",
       "      <td>174.0</td>\n",
       "    </tr>\n",
       "    <tr>\n",
       "      <th>5</th>\n",
       "      <td>1964</td>\n",
       "      <td>URS</td>\n",
       "      <td>Winter</td>\n",
       "      <td>107</td>\n",
       "      <td>47.0</td>\n",
       "    </tr>\n",
       "    <tr>\n",
       "      <th>6</th>\n",
       "      <td>1968</td>\n",
       "      <td>URS</td>\n",
       "      <td>Summer</td>\n",
       "      <td>471</td>\n",
       "      <td>192.0</td>\n",
       "    </tr>\n",
       "    <tr>\n",
       "      <th>7</th>\n",
       "      <td>1968</td>\n",
       "      <td>URS</td>\n",
       "      <td>Winter</td>\n",
       "      <td>121</td>\n",
       "      <td>37.0</td>\n",
       "    </tr>\n",
       "    <tr>\n",
       "      <th>8</th>\n",
       "      <td>1972</td>\n",
       "      <td>URS</td>\n",
       "      <td>Summer</td>\n",
       "      <td>531</td>\n",
       "      <td>214.0</td>\n",
       "    </tr>\n",
       "    <tr>\n",
       "      <th>9</th>\n",
       "      <td>1972</td>\n",
       "      <td>URS</td>\n",
       "      <td>Winter</td>\n",
       "      <td>118</td>\n",
       "      <td>45.0</td>\n",
       "    </tr>\n",
       "    <tr>\n",
       "      <th>10</th>\n",
       "      <td>1976</td>\n",
       "      <td>URS</td>\n",
       "      <td>Summer</td>\n",
       "      <td>574</td>\n",
       "      <td>286.0</td>\n",
       "    </tr>\n",
       "    <tr>\n",
       "      <th>11</th>\n",
       "      <td>1976</td>\n",
       "      <td>URS</td>\n",
       "      <td>Winter</td>\n",
       "      <td>121</td>\n",
       "      <td>56.0</td>\n",
       "    </tr>\n",
       "    <tr>\n",
       "      <th>12</th>\n",
       "      <td>1980</td>\n",
       "      <td>URS</td>\n",
       "      <td>Summer</td>\n",
       "      <td>660</td>\n",
       "      <td>442.0</td>\n",
       "    </tr>\n",
       "    <tr>\n",
       "      <th>13</th>\n",
       "      <td>1980</td>\n",
       "      <td>URS</td>\n",
       "      <td>Winter</td>\n",
       "      <td>129</td>\n",
       "      <td>54.0</td>\n",
       "    </tr>\n",
       "    <tr>\n",
       "      <th>14</th>\n",
       "      <td>1984</td>\n",
       "      <td>URS</td>\n",
       "      <td>Winter</td>\n",
       "      <td>143</td>\n",
       "      <td>56.0</td>\n",
       "    </tr>\n",
       "    <tr>\n",
       "      <th>15</th>\n",
       "      <td>1988</td>\n",
       "      <td>URS</td>\n",
       "      <td>Summer</td>\n",
       "      <td>647</td>\n",
       "      <td>300.0</td>\n",
       "    </tr>\n",
       "    <tr>\n",
       "      <th>16</th>\n",
       "      <td>1988</td>\n",
       "      <td>URS</td>\n",
       "      <td>Winter</td>\n",
       "      <td>152</td>\n",
       "      <td>66.0</td>\n",
       "    </tr>\n",
       "    <tr>\n",
       "      <th>17</th>\n",
       "      <td>1992</td>\n",
       "      <td>EUN</td>\n",
       "      <td>Summer</td>\n",
       "      <td>650</td>\n",
       "      <td>220.0</td>\n",
       "    </tr>\n",
       "    <tr>\n",
       "      <th>18</th>\n",
       "      <td>1992</td>\n",
       "      <td>EUN</td>\n",
       "      <td>Winter</td>\n",
       "      <td>214</td>\n",
       "      <td>59.0</td>\n",
       "    </tr>\n",
       "    <tr>\n",
       "      <th>19</th>\n",
       "      <td>1992</td>\n",
       "      <td>OTHERS</td>\n",
       "      <td>Summer</td>\n",
       "      <td>140</td>\n",
       "      <td>19.0</td>\n",
       "    </tr>\n",
       "    <tr>\n",
       "      <th>20</th>\n",
       "      <td>1992</td>\n",
       "      <td>OTHERS</td>\n",
       "      <td>Winter</td>\n",
       "      <td>102</td>\n",
       "      <td>NaN</td>\n",
       "    </tr>\n",
       "    <tr>\n",
       "      <th>21</th>\n",
       "      <td>1994</td>\n",
       "      <td>OTHERS</td>\n",
       "      <td>Winter</td>\n",
       "      <td>349</td>\n",
       "      <td>8.0</td>\n",
       "    </tr>\n",
       "    <tr>\n",
       "      <th>22</th>\n",
       "      <td>1994</td>\n",
       "      <td>RUS</td>\n",
       "      <td>Winter</td>\n",
       "      <td>208</td>\n",
       "      <td>36.0</td>\n",
       "    </tr>\n",
       "    <tr>\n",
       "      <th>23</th>\n",
       "      <td>1996</td>\n",
       "      <td>OTHERS</td>\n",
       "      <td>Summer</td>\n",
       "      <td>1257</td>\n",
       "      <td>90.0</td>\n",
       "    </tr>\n",
       "    <tr>\n",
       "      <th>24</th>\n",
       "      <td>1996</td>\n",
       "      <td>RUS</td>\n",
       "      <td>Summer</td>\n",
       "      <td>552</td>\n",
       "      <td>115.0</td>\n",
       "    </tr>\n",
       "    <tr>\n",
       "      <th>25</th>\n",
       "      <td>1998</td>\n",
       "      <td>OTHERS</td>\n",
       "      <td>Winter</td>\n",
       "      <td>467</td>\n",
       "      <td>5.0</td>\n",
       "    </tr>\n",
       "    <tr>\n",
       "      <th>26</th>\n",
       "      <td>1998</td>\n",
       "      <td>RUS</td>\n",
       "      <td>Winter</td>\n",
       "      <td>197</td>\n",
       "      <td>52.0</td>\n",
       "    </tr>\n",
       "    <tr>\n",
       "      <th>27</th>\n",
       "      <td>2000</td>\n",
       "      <td>OTHERS</td>\n",
       "      <td>Summer</td>\n",
       "      <td>1243</td>\n",
       "      <td>104.0</td>\n",
       "    </tr>\n",
       "    <tr>\n",
       "      <th>28</th>\n",
       "      <td>2000</td>\n",
       "      <td>RUS</td>\n",
       "      <td>Summer</td>\n",
       "      <td>602</td>\n",
       "      <td>187.0</td>\n",
       "    </tr>\n",
       "    <tr>\n",
       "      <th>29</th>\n",
       "      <td>2002</td>\n",
       "      <td>OTHERS</td>\n",
       "      <td>Winter</td>\n",
       "      <td>523</td>\n",
       "      <td>4.0</td>\n",
       "    </tr>\n",
       "    <tr>\n",
       "      <th>30</th>\n",
       "      <td>2002</td>\n",
       "      <td>RUS</td>\n",
       "      <td>Winter</td>\n",
       "      <td>240</td>\n",
       "      <td>38.0</td>\n",
       "    </tr>\n",
       "    <tr>\n",
       "      <th>31</th>\n",
       "      <td>2004</td>\n",
       "      <td>OTHERS</td>\n",
       "      <td>Summer</td>\n",
       "      <td>1097</td>\n",
       "      <td>94.0</td>\n",
       "    </tr>\n",
       "    <tr>\n",
       "      <th>32</th>\n",
       "      <td>2004</td>\n",
       "      <td>RUS</td>\n",
       "      <td>Summer</td>\n",
       "      <td>593</td>\n",
       "      <td>189.0</td>\n",
       "    </tr>\n",
       "    <tr>\n",
       "      <th>33</th>\n",
       "      <td>2006</td>\n",
       "      <td>OTHERS</td>\n",
       "      <td>Winter</td>\n",
       "      <td>479</td>\n",
       "      <td>8.0</td>\n",
       "    </tr>\n",
       "    <tr>\n",
       "      <th>34</th>\n",
       "      <td>2006</td>\n",
       "      <td>RUS</td>\n",
       "      <td>Winter</td>\n",
       "      <td>283</td>\n",
       "      <td>41.0</td>\n",
       "    </tr>\n",
       "    <tr>\n",
       "      <th>35</th>\n",
       "      <td>2008</td>\n",
       "      <td>OTHERS</td>\n",
       "      <td>Summer</td>\n",
       "      <td>1149</td>\n",
       "      <td>114.0</td>\n",
       "    </tr>\n",
       "    <tr>\n",
       "      <th>36</th>\n",
       "      <td>2008</td>\n",
       "      <td>RUS</td>\n",
       "      <td>Summer</td>\n",
       "      <td>600</td>\n",
       "      <td>142.0</td>\n",
       "    </tr>\n",
       "    <tr>\n",
       "      <th>37</th>\n",
       "      <td>2010</td>\n",
       "      <td>OTHERS</td>\n",
       "      <td>Winter</td>\n",
       "      <td>490</td>\n",
       "      <td>8.0</td>\n",
       "    </tr>\n",
       "    <tr>\n",
       "      <th>38</th>\n",
       "      <td>2010</td>\n",
       "      <td>RUS</td>\n",
       "      <td>Winter</td>\n",
       "      <td>279</td>\n",
       "      <td>25.0</td>\n",
       "    </tr>\n",
       "    <tr>\n",
       "      <th>39</th>\n",
       "      <td>2012</td>\n",
       "      <td>OTHERS</td>\n",
       "      <td>Summer</td>\n",
       "      <td>1022</td>\n",
       "      <td>98.0</td>\n",
       "    </tr>\n",
       "    <tr>\n",
       "      <th>40</th>\n",
       "      <td>2012</td>\n",
       "      <td>RUS</td>\n",
       "      <td>Summer</td>\n",
       "      <td>549</td>\n",
       "      <td>140.0</td>\n",
       "    </tr>\n",
       "  </tbody>\n",
       "</table>\n",
       "</div>"
      ],
      "text/plain": [
       "    Year     NOC  Season  Athlete Count  Medal Count\n",
       "0   1956     URS  Summer            411        169.0\n",
       "1   1956     URS  Winter             81         37.0\n",
       "2   1960     URS  Summer            414        169.0\n",
       "3   1960     URS  Winter             91         42.0\n",
       "4   1964     URS  Summer            463        174.0\n",
       "5   1964     URS  Winter            107         47.0\n",
       "6   1968     URS  Summer            471        192.0\n",
       "7   1968     URS  Winter            121         37.0\n",
       "8   1972     URS  Summer            531        214.0\n",
       "9   1972     URS  Winter            118         45.0\n",
       "10  1976     URS  Summer            574        286.0\n",
       "11  1976     URS  Winter            121         56.0\n",
       "12  1980     URS  Summer            660        442.0\n",
       "13  1980     URS  Winter            129         54.0\n",
       "14  1984     URS  Winter            143         56.0\n",
       "15  1988     URS  Summer            647        300.0\n",
       "16  1988     URS  Winter            152         66.0\n",
       "17  1992     EUN  Summer            650        220.0\n",
       "18  1992     EUN  Winter            214         59.0\n",
       "19  1992  OTHERS  Summer            140         19.0\n",
       "20  1992  OTHERS  Winter            102          NaN\n",
       "21  1994  OTHERS  Winter            349          8.0\n",
       "22  1994     RUS  Winter            208         36.0\n",
       "23  1996  OTHERS  Summer           1257         90.0\n",
       "24  1996     RUS  Summer            552        115.0\n",
       "25  1998  OTHERS  Winter            467          5.0\n",
       "26  1998     RUS  Winter            197         52.0\n",
       "27  2000  OTHERS  Summer           1243        104.0\n",
       "28  2000     RUS  Summer            602        187.0\n",
       "29  2002  OTHERS  Winter            523          4.0\n",
       "30  2002     RUS  Winter            240         38.0\n",
       "31  2004  OTHERS  Summer           1097         94.0\n",
       "32  2004     RUS  Summer            593        189.0\n",
       "33  2006  OTHERS  Winter            479          8.0\n",
       "34  2006     RUS  Winter            283         41.0\n",
       "35  2008  OTHERS  Summer           1149        114.0\n",
       "36  2008     RUS  Summer            600        142.0\n",
       "37  2010  OTHERS  Winter            490          8.0\n",
       "38  2010     RUS  Winter            279         25.0\n",
       "39  2012  OTHERS  Summer           1022         98.0\n",
       "40  2012     RUS  Summer            549        140.0"
      ]
     },
     "execution_count": 12,
     "metadata": {},
     "output_type": "execute_result"
    }
   ],
   "source": [
    "#athlete count --- BY NOC\n",
    "athlete_count_cdf = complete_subset_df.groupby(['Year','NOC','Season'])['ID'].count()\n",
    "medal_count_cdf = medal_complete_subset_df.groupby(['Year','NOC','Season'])['Medal'].count()\n",
    "summary_cdf = pd.DataFrame({'Athlete Count' : athlete_count_cdf ,\n",
    "                               'Medal Count' :medal_count_cdf})\n",
    "summary_cdf.reset_index()"
   ]
  },
  {
   "cell_type": "code",
   "execution_count": 14,
   "id": "7ee5c9fe",
   "metadata": {},
   "outputs": [],
   "source": [
    "\n",
    "athlete_count_cdf = complete_subset_df.groupby(['Year'])['ID'].count()\n",
    "medal_count_cdf = medal_complete_subset_df.groupby(['Year'])['Medal'].count()\n",
    "summary_cdf = pd.DataFrame({'Athlete Count' : athlete_count_cdf ,\n",
    "                               'Medal Count' :medal_count_cdf})\n",
    "#summary_cdf.reset_index()\n"
   ]
  },
  {
   "cell_type": "code",
   "execution_count": 15,
   "id": "4203b5cc",
   "metadata": {},
   "outputs": [
    {
     "ename": "ValueError",
     "evalue": "Could not interpret value `Medal` for parameter `hue`",
     "output_type": "error",
     "traceback": [
      "\u001b[1;31m---------------------------------------------------------------------------\u001b[0m",
      "\u001b[1;31mValueError\u001b[0m                                Traceback (most recent call last)",
      "\u001b[1;32m<ipython-input-15-28e5f5351cf4>\u001b[0m in \u001b[0;36m<module>\u001b[1;34m\u001b[0m\n\u001b[0;32m      2\u001b[0m \u001b[1;31m#fig, ax = plt.subplots()\u001b[0m\u001b[1;33m\u001b[0m\u001b[1;33m\u001b[0m\u001b[1;33m\u001b[0m\u001b[0m\n\u001b[0;32m      3\u001b[0m \u001b[1;31m#sb.lineplot(data=summary_cdf, x=\"Year\", y=\"Athlete Count\",linewidth = 2)\u001b[0m\u001b[1;33m\u001b[0m\u001b[1;33m\u001b[0m\u001b[1;33m\u001b[0m\u001b[0m\n\u001b[1;32m----> 4\u001b[1;33m \u001b[0msb\u001b[0m\u001b[1;33m.\u001b[0m\u001b[0mlineplot\u001b[0m\u001b[1;33m(\u001b[0m\u001b[0mdata\u001b[0m\u001b[1;33m=\u001b[0m\u001b[0msummary_cdf\u001b[0m\u001b[1;33m,\u001b[0m \u001b[0mx\u001b[0m\u001b[1;33m=\u001b[0m\u001b[1;34m\"Year\"\u001b[0m\u001b[1;33m,\u001b[0m \u001b[0my\u001b[0m\u001b[1;33m=\u001b[0m\u001b[1;34m\"Medal Count\"\u001b[0m\u001b[1;33m,\u001b[0m\u001b[0mhue\u001b[0m \u001b[1;33m=\u001b[0m\u001b[1;34m\"Medal\"\u001b[0m\u001b[1;33m,\u001b[0m\u001b[0mlinewidth\u001b[0m \u001b[1;33m=\u001b[0m \u001b[1;36m2\u001b[0m\u001b[1;33m)\u001b[0m\u001b[1;33m\u001b[0m\u001b[1;33m\u001b[0m\u001b[0m\n\u001b[0m\u001b[0;32m      5\u001b[0m \u001b[0mplt\u001b[0m\u001b[1;33m.\u001b[0m\u001b[0maxvline\u001b[0m\u001b[1;33m(\u001b[0m\u001b[0mx\u001b[0m\u001b[1;33m=\u001b[0m\u001b[1;36m1994\u001b[0m\u001b[1;33m,\u001b[0m \u001b[0mlinewidth\u001b[0m\u001b[1;33m=\u001b[0m\u001b[1;36m2\u001b[0m\u001b[1;33m,\u001b[0m \u001b[0mcolor\u001b[0m\u001b[1;33m=\u001b[0m\u001b[1;34m'r'\u001b[0m\u001b[1;33m,\u001b[0m \u001b[0mls\u001b[0m\u001b[1;33m=\u001b[0m\u001b[1;34m'--'\u001b[0m\u001b[1;33m)\u001b[0m\u001b[1;33m\u001b[0m\u001b[1;33m\u001b[0m\u001b[0m\n\u001b[0;32m      6\u001b[0m \u001b[0mplt\u001b[0m\u001b[1;33m.\u001b[0m\u001b[0mlegend\u001b[0m\u001b[1;33m(\u001b[0m\u001b[1;33m[\u001b[0m\u001b[1;34m\"Athlete Count\"\u001b[0m\u001b[1;33m,\u001b[0m \u001b[1;34m'Medal Count'\u001b[0m\u001b[1;33m]\u001b[0m\u001b[1;33m)\u001b[0m\u001b[1;33m\u001b[0m\u001b[1;33m\u001b[0m\u001b[0m\n",
      "\u001b[1;32mC:\\ProgramData\\Anaconda3\\lib\\site-packages\\seaborn\\_decorators.py\u001b[0m in \u001b[0;36minner_f\u001b[1;34m(*args, **kwargs)\u001b[0m\n\u001b[0;32m     44\u001b[0m             )\n\u001b[0;32m     45\u001b[0m         \u001b[0mkwargs\u001b[0m\u001b[1;33m.\u001b[0m\u001b[0mupdate\u001b[0m\u001b[1;33m(\u001b[0m\u001b[1;33m{\u001b[0m\u001b[0mk\u001b[0m\u001b[1;33m:\u001b[0m \u001b[0marg\u001b[0m \u001b[1;32mfor\u001b[0m \u001b[0mk\u001b[0m\u001b[1;33m,\u001b[0m \u001b[0marg\u001b[0m \u001b[1;32min\u001b[0m \u001b[0mzip\u001b[0m\u001b[1;33m(\u001b[0m\u001b[0msig\u001b[0m\u001b[1;33m.\u001b[0m\u001b[0mparameters\u001b[0m\u001b[1;33m,\u001b[0m \u001b[0margs\u001b[0m\u001b[1;33m)\u001b[0m\u001b[1;33m}\u001b[0m\u001b[1;33m)\u001b[0m\u001b[1;33m\u001b[0m\u001b[1;33m\u001b[0m\u001b[0m\n\u001b[1;32m---> 46\u001b[1;33m         \u001b[1;32mreturn\u001b[0m \u001b[0mf\u001b[0m\u001b[1;33m(\u001b[0m\u001b[1;33m**\u001b[0m\u001b[0mkwargs\u001b[0m\u001b[1;33m)\u001b[0m\u001b[1;33m\u001b[0m\u001b[1;33m\u001b[0m\u001b[0m\n\u001b[0m\u001b[0;32m     47\u001b[0m     \u001b[1;32mreturn\u001b[0m \u001b[0minner_f\u001b[0m\u001b[1;33m\u001b[0m\u001b[1;33m\u001b[0m\u001b[0m\n\u001b[0;32m     48\u001b[0m \u001b[1;33m\u001b[0m\u001b[0m\n",
      "\u001b[1;32mC:\\ProgramData\\Anaconda3\\lib\\site-packages\\seaborn\\relational.py\u001b[0m in \u001b[0;36mlineplot\u001b[1;34m(x, y, hue, size, style, data, palette, hue_order, hue_norm, sizes, size_order, size_norm, dashes, markers, style_order, units, estimator, ci, n_boot, seed, sort, err_style, err_kws, legend, ax, **kwargs)\u001b[0m\n\u001b[0;32m    683\u001b[0m \u001b[1;33m\u001b[0m\u001b[0m\n\u001b[0;32m    684\u001b[0m     \u001b[0mvariables\u001b[0m \u001b[1;33m=\u001b[0m \u001b[0m_LinePlotter\u001b[0m\u001b[1;33m.\u001b[0m\u001b[0mget_semantics\u001b[0m\u001b[1;33m(\u001b[0m\u001b[0mlocals\u001b[0m\u001b[1;33m(\u001b[0m\u001b[1;33m)\u001b[0m\u001b[1;33m)\u001b[0m\u001b[1;33m\u001b[0m\u001b[1;33m\u001b[0m\u001b[0m\n\u001b[1;32m--> 685\u001b[1;33m     p = _LinePlotter(\n\u001b[0m\u001b[0;32m    686\u001b[0m         \u001b[0mdata\u001b[0m\u001b[1;33m=\u001b[0m\u001b[0mdata\u001b[0m\u001b[1;33m,\u001b[0m \u001b[0mvariables\u001b[0m\u001b[1;33m=\u001b[0m\u001b[0mvariables\u001b[0m\u001b[1;33m,\u001b[0m\u001b[1;33m\u001b[0m\u001b[1;33m\u001b[0m\u001b[0m\n\u001b[0;32m    687\u001b[0m         \u001b[0mestimator\u001b[0m\u001b[1;33m=\u001b[0m\u001b[0mestimator\u001b[0m\u001b[1;33m,\u001b[0m \u001b[0mci\u001b[0m\u001b[1;33m=\u001b[0m\u001b[0mci\u001b[0m\u001b[1;33m,\u001b[0m \u001b[0mn_boot\u001b[0m\u001b[1;33m=\u001b[0m\u001b[0mn_boot\u001b[0m\u001b[1;33m,\u001b[0m \u001b[0mseed\u001b[0m\u001b[1;33m=\u001b[0m\u001b[0mseed\u001b[0m\u001b[1;33m,\u001b[0m\u001b[1;33m\u001b[0m\u001b[1;33m\u001b[0m\u001b[0m\n",
      "\u001b[1;32mC:\\ProgramData\\Anaconda3\\lib\\site-packages\\seaborn\\relational.py\u001b[0m in \u001b[0;36m__init__\u001b[1;34m(self, data, variables, estimator, ci, n_boot, seed, sort, err_style, err_kws, legend)\u001b[0m\n\u001b[0;32m    365\u001b[0m         )\n\u001b[0;32m    366\u001b[0m \u001b[1;33m\u001b[0m\u001b[0m\n\u001b[1;32m--> 367\u001b[1;33m         \u001b[0msuper\u001b[0m\u001b[1;33m(\u001b[0m\u001b[1;33m)\u001b[0m\u001b[1;33m.\u001b[0m\u001b[0m__init__\u001b[0m\u001b[1;33m(\u001b[0m\u001b[0mdata\u001b[0m\u001b[1;33m=\u001b[0m\u001b[0mdata\u001b[0m\u001b[1;33m,\u001b[0m \u001b[0mvariables\u001b[0m\u001b[1;33m=\u001b[0m\u001b[0mvariables\u001b[0m\u001b[1;33m)\u001b[0m\u001b[1;33m\u001b[0m\u001b[1;33m\u001b[0m\u001b[0m\n\u001b[0m\u001b[0;32m    368\u001b[0m \u001b[1;33m\u001b[0m\u001b[0m\n\u001b[0;32m    369\u001b[0m         \u001b[0mself\u001b[0m\u001b[1;33m.\u001b[0m\u001b[0mestimator\u001b[0m \u001b[1;33m=\u001b[0m \u001b[0mestimator\u001b[0m\u001b[1;33m\u001b[0m\u001b[1;33m\u001b[0m\u001b[0m\n",
      "\u001b[1;32mC:\\ProgramData\\Anaconda3\\lib\\site-packages\\seaborn\\_core.py\u001b[0m in \u001b[0;36m__init__\u001b[1;34m(self, data, variables)\u001b[0m\n\u001b[0;32m    602\u001b[0m     \u001b[1;32mdef\u001b[0m \u001b[0m__init__\u001b[0m\u001b[1;33m(\u001b[0m\u001b[0mself\u001b[0m\u001b[1;33m,\u001b[0m \u001b[0mdata\u001b[0m\u001b[1;33m=\u001b[0m\u001b[1;32mNone\u001b[0m\u001b[1;33m,\u001b[0m \u001b[0mvariables\u001b[0m\u001b[1;33m=\u001b[0m\u001b[1;33m{\u001b[0m\u001b[1;33m}\u001b[0m\u001b[1;33m)\u001b[0m\u001b[1;33m:\u001b[0m\u001b[1;33m\u001b[0m\u001b[1;33m\u001b[0m\u001b[0m\n\u001b[0;32m    603\u001b[0m \u001b[1;33m\u001b[0m\u001b[0m\n\u001b[1;32m--> 604\u001b[1;33m         \u001b[0mself\u001b[0m\u001b[1;33m.\u001b[0m\u001b[0massign_variables\u001b[0m\u001b[1;33m(\u001b[0m\u001b[0mdata\u001b[0m\u001b[1;33m,\u001b[0m \u001b[0mvariables\u001b[0m\u001b[1;33m)\u001b[0m\u001b[1;33m\u001b[0m\u001b[1;33m\u001b[0m\u001b[0m\n\u001b[0m\u001b[0;32m    605\u001b[0m \u001b[1;33m\u001b[0m\u001b[0m\n\u001b[0;32m    606\u001b[0m         \u001b[1;32mfor\u001b[0m \u001b[0mvar\u001b[0m\u001b[1;33m,\u001b[0m \u001b[0mcls\u001b[0m \u001b[1;32min\u001b[0m \u001b[0mself\u001b[0m\u001b[1;33m.\u001b[0m\u001b[0m_semantic_mappings\u001b[0m\u001b[1;33m.\u001b[0m\u001b[0mitems\u001b[0m\u001b[1;33m(\u001b[0m\u001b[1;33m)\u001b[0m\u001b[1;33m:\u001b[0m\u001b[1;33m\u001b[0m\u001b[1;33m\u001b[0m\u001b[0m\n",
      "\u001b[1;32mC:\\ProgramData\\Anaconda3\\lib\\site-packages\\seaborn\\_core.py\u001b[0m in \u001b[0;36massign_variables\u001b[1;34m(self, data, variables)\u001b[0m\n\u001b[0;32m    665\u001b[0m         \u001b[1;32melse\u001b[0m\u001b[1;33m:\u001b[0m\u001b[1;33m\u001b[0m\u001b[1;33m\u001b[0m\u001b[0m\n\u001b[0;32m    666\u001b[0m             \u001b[0mself\u001b[0m\u001b[1;33m.\u001b[0m\u001b[0minput_format\u001b[0m \u001b[1;33m=\u001b[0m \u001b[1;34m\"long\"\u001b[0m\u001b[1;33m\u001b[0m\u001b[1;33m\u001b[0m\u001b[0m\n\u001b[1;32m--> 667\u001b[1;33m             plot_data, variables = self._assign_variables_longform(\n\u001b[0m\u001b[0;32m    668\u001b[0m                 \u001b[0mdata\u001b[0m\u001b[1;33m,\u001b[0m \u001b[1;33m**\u001b[0m\u001b[0mvariables\u001b[0m\u001b[1;33m,\u001b[0m\u001b[1;33m\u001b[0m\u001b[1;33m\u001b[0m\u001b[0m\n\u001b[0;32m    669\u001b[0m             )\n",
      "\u001b[1;32mC:\\ProgramData\\Anaconda3\\lib\\site-packages\\seaborn\\_core.py\u001b[0m in \u001b[0;36m_assign_variables_longform\u001b[1;34m(self, data, **kwargs)\u001b[0m\n\u001b[0;32m    900\u001b[0m \u001b[1;33m\u001b[0m\u001b[0m\n\u001b[0;32m    901\u001b[0m                 \u001b[0merr\u001b[0m \u001b[1;33m=\u001b[0m \u001b[1;34mf\"Could not interpret value `{val}` for parameter `{key}`\"\u001b[0m\u001b[1;33m\u001b[0m\u001b[1;33m\u001b[0m\u001b[0m\n\u001b[1;32m--> 902\u001b[1;33m                 \u001b[1;32mraise\u001b[0m \u001b[0mValueError\u001b[0m\u001b[1;33m(\u001b[0m\u001b[0merr\u001b[0m\u001b[1;33m)\u001b[0m\u001b[1;33m\u001b[0m\u001b[1;33m\u001b[0m\u001b[0m\n\u001b[0m\u001b[0;32m    903\u001b[0m \u001b[1;33m\u001b[0m\u001b[0m\n\u001b[0;32m    904\u001b[0m             \u001b[1;32melse\u001b[0m\u001b[1;33m:\u001b[0m\u001b[1;33m\u001b[0m\u001b[1;33m\u001b[0m\u001b[0m\n",
      "\u001b[1;31mValueError\u001b[0m: Could not interpret value `Medal` for parameter `hue`"
     ]
    },
    {
     "data": {
      "text/plain": [
       "<Figure size 1080x504 with 0 Axes>"
      ]
     },
     "metadata": {},
     "output_type": "display_data"
    }
   ],
   "source": [
    "plt.figure(figsize=(15, 7))\n",
    "#fig, ax = plt.subplots()\n",
    "#sb.lineplot(data=summary_cdf, x=\"Year\", y=\"Athlete Count\",linewidth = 2)\n",
    "sb.lineplot(data=summary_cdf, x=\"Year\", y=\"Medal Count\",hue =\"Medal\",linewidth = 2)\n",
    "plt.axvline(x=1994, linewidth=2, color='r', ls='--')\n",
    "plt.legend([\"Athlete Count\", 'Medal Count'])\n",
    "#sb.despine(right=True)\n",
    "plt.title('Overall Athletes Participation & Medal Count - Soviet Union  & Russia / Former Soviet States ', fontsize=15, color='darkblue')"
   ]
  },
  {
   "cell_type": "code",
   "execution_count": 16,
   "id": "9026c560",
   "metadata": {},
   "outputs": [
    {
     "name": "stdout",
     "output_type": "stream",
     "text": [
      "Avg. Athlete participation before dissolution    - 634.0\n",
      "Avg. Athlete participation after dissolution  - 1217.9\n"
     ]
    },
    {
     "data": {
      "text/plain": [
       "Ttest_indResult(statistic=-3.0521456646077976, pvalue=0.009594600848049552)"
      ]
     },
     "execution_count": 16,
     "metadata": {},
     "output_type": "execute_result"
    }
   ],
   "source": [
    "#Impact on participation before and after dissolution\n",
    "\n",
    "before_dissolution_df = complete_subset_df.loc[(complete_subset_df['Year'] <= 1992)]\n",
    "after_dissolution_df = complete_subset_df.loc[(complete_subset_df['Year'] > 1992)]\n",
    "\n",
    "athlete_before = before_dissolution_df.groupby(['Year'])\n",
    "athlete_count_before =athlete_before['ID'].count()\n",
    "\n",
    "athlete_after = after_dissolution_df.groupby(['Year'])\n",
    "athlete_count_after =athlete_after['ID'].count()\n",
    "\n",
    "print(f'Avg. Athlete participation before dissolution    - {athlete_count_before.mean()}')\n",
    "print(f'Avg. Athlete participation after dissolution  - {athlete_count_after.mean()}')\n",
    "\n",
    "# Calculate Independent (Two Sample) t-test\n",
    "stats.ttest_ind(athlete_count_before, athlete_count_after, equal_var=False)"
   ]
  },
  {
   "cell_type": "code",
   "execution_count": null,
   "id": "e02eaeb7",
   "metadata": {},
   "outputs": [],
   "source": [
    "#Impact on medals won before and after dissolution\n",
    "medal_before_dissolution_df = medal_complete_subset_df.loc[(medal_complete_subset_df['Year'] <= 1992)]\n",
    "medal_after_dissolution_df = medal_complete_subset_df.loc[(medal_complete_subset_df['Year'] > 1992)]\n",
    "\n",
    "medals_before = medal_before_dissolution_df.groupby(['Year'])\n",
    "medals_count_before =medals_before['ID'].count()\n",
    "\n",
    "medals_after = medal_after_dissolution_df.groupby(['Year'])\n",
    "medals_count_after =medals_after['ID'].count()\n",
    "\n",
    "print(f'Avg. Medals won participation before dissolution    - {medals_count_before.mean()}')\n",
    "print(f'Avg. Medal won participation after dissolution  - {medals_count_after.mean()}')\n",
    "\n",
    "\n",
    "# Calculate Independent (Two Sample) t-test\n",
    "stats.ttest_ind(medals_count_before, medals_count_after, equal_var=False)"
   ]
  },
  {
   "cell_type": "markdown",
   "id": "9b3d25c7",
   "metadata": {},
   "source": [
    "Complete before and after dissolution- Medal Analysis"
   ]
  },
  {
   "cell_type": "markdown",
   "id": "f3f863cc",
   "metadata": {},
   "source": [
    "# RUSSIA and URS ANALYSIS"
   ]
  },
  {
   "cell_type": "code",
   "execution_count": null,
   "id": "fb7cd925",
   "metadata": {},
   "outputs": [],
   "source": [
    "#athlete count\n",
    "grouped_subset_df = subset_df.groupby(['Year','NOC'])\n",
    "athlete_count = grouped_subset_df['ID'].count()\n",
    "\n",
    "#Medal Count\n",
    "medal_subset_df = subset_df.loc[(subset_df['Medal'] != 'No Medal')]\n",
    "grouped_medal_subset_df = medal_subset_df .groupby(['Year','NOC'])\n",
    "medal_count = grouped_medal_subset_df['Medal'].count()\n",
    "#medal_count = grouped_subset_df['Medal'].drop('No Medal').count()\n",
    "\n",
    "summary_subset_df = pd.DataFrame({'Athlete Count' : athlete_count,\n",
    "                               'Medal Count' :medal_count})\n",
    "#summary_subset_df.reset_index()"
   ]
  },
  {
   "cell_type": "code",
   "execution_count": null,
   "id": "9d6d7902",
   "metadata": {},
   "outputs": [],
   "source": [
    "plt.figure(figsize=(15, 7))\n",
    "sb.lineplot(data=summary_subset_df, x=\"Year\", y=\"Athlete Count\",linewidth = 2)\n",
    "sb.lineplot(data=summary_subset_df, x=\"Year\", y=\"Medal Count\",linewidth = 2)\n",
    "plt.axvline(x=1994, linewidth=2, color='r', ls='--')\n",
    "plt.legend([\"Athlete Count\", 'Medal Count'])\n",
    "#sb.despine(right=True)\n",
    "plt.title('Overall Athletes Participation & Medal Count - Soviet Union & Russia', fontsize=15, color='darkblue')"
   ]
  },
  {
   "cell_type": "code",
   "execution_count": null,
   "id": "89593585",
   "metadata": {
    "scrolled": true
   },
   "outputs": [],
   "source": [
    "plt.figure(figsize=(15, 6))\n",
    "#fig, ax = plt.subplots()\n",
    "sb.lineplot(data=summary_subset_df, x=\"Year\", y=\"Athlete Count\",linewidth = 2)\n",
    "sb.lineplot(data=summary_subset_df, x=\"Year\", y=\"Medal Count\",linewidth = 2)\n",
    "plt.axvline(x=1994, linewidth=2, color='r', ls='--')\n",
    "plt.legend([\"Athlete Count\", 'Medal Count'])\n",
    "#sb.despine(right=True)\n",
    "plt.title('Overall Athletes Participation & Medal count', fontsize=15, color='darkblue')"
   ]
  },
  {
   "cell_type": "markdown",
   "id": "4f55499d",
   "metadata": {},
   "source": [
    "# Medal Subset"
   ]
  },
  {
   "cell_type": "code",
   "execution_count": null,
   "id": "7572093a",
   "metadata": {},
   "outputs": [],
   "source": [
    "medal_subset_df = subset_df.loc[(subset_df['Medal'] != 'No Medal')]\n",
    "#USSR Dataset [1966 - 1991]\n",
    "medal_ussr_df = medal_subset_df.loc[((medal_subset_df['NOC'] == 'URS')|(medal_subset_df['NOC'] == 'EUN')) & (medal_subset_df['Year'] <= 1992)]\n",
    "# Russia DataSet [1992 - 2014]\n",
    "medal_russia_df = medal_subset_df.loc[(medal_subset_df['NOC'] == 'RUS') & (medal_subset_df['Year'] > 1992)]"
   ]
  },
  {
   "cell_type": "code",
   "execution_count": null,
   "id": "10861a14",
   "metadata": {},
   "outputs": [],
   "source": [
    "#group by season athlete count\n",
    "grouped_subset_df = subset_df.groupby(['Year','NOC','Season'])['ID'].count()\n",
    "#athlete_count = grouped_subset_df['ID'].count()\n"
   ]
  },
  {
   "cell_type": "markdown",
   "id": "db10e9b3",
   "metadata": {},
   "source": [
    "# Hypothesis Testing\n"
   ]
  },
  {
   "cell_type": "markdown",
   "id": "6238e246",
   "metadata": {},
   "source": [
    "Did the dissolution impact the participation rate of Russia?"
   ]
  },
  {
   "cell_type": "code",
   "execution_count": null,
   "id": "ac4f63c2",
   "metadata": {
    "scrolled": false
   },
   "outputs": [],
   "source": [
    "#Impact on participation\n",
    "grouped_ussr_dataset =ussr_df.groupby(['Year','NOC'])\n",
    "athlete_count_ussr = grouped_ussr_dataset['ID'].count()\n",
    "#ussr_dataset_df = pd.DataFrame({\"Athelete Count-USSR\":athlete_count_ussr})\n",
    "\n",
    "\n",
    "grouped_russia_dataset =russia_df.groupby(['Year','NOC'])\n",
    "athlete_count_russia = grouped_russia_dataset['ID'].count()\n",
    "#russia_dataset_df = pd.DataFrame({\"Athelete Count-RUSSIA\":athlete_count_russia})\n",
    "\n",
    "grouped_others_dataset =other_countries_df.groupby(['Year','NOC'])\n",
    "athlete_count_others = grouped_others_dataset['ID'].count()\n",
    "#others_dataset_df = pd.DataFrame({\"Athelete Count-Others\":athlete_count_others})\n",
    "\n",
    "print(f'Avg. Athlete participation in Olympics USSR    - {athlete_count_ussr.mean()}')\n",
    "print(f'Avg. Athlete participation in Olympics Russia  - {athlete_count_russia.mean()}')\n",
    "#print(f'Avg. Athlete participation in Olympics Others  - {athlete_count_others.mean()}')\n",
    "\n",
    "# Calculate Independent (Two Sample) t-test\n",
    "stats.ttest_ind(athlete_count_ussr, athlete_count_russia, equal_var=False)\n",
    "#stats.f_oneway(athlete_count_ussr,athlete_count_russia,athlete_count_others )"
   ]
  },
  {
   "cell_type": "markdown",
   "id": "1cc36848",
   "metadata": {},
   "source": [
    "Did the dissolution impact the total number of medals won in olympics?"
   ]
  },
  {
   "cell_type": "code",
   "execution_count": null,
   "id": "1eafced7",
   "metadata": {},
   "outputs": [],
   "source": [
    "#Impact on medals won\n",
    "grouped_medal_ussr_dataset =medal_ussr_df.groupby(['Year','NOC'])\n",
    "medal_count_ussr = grouped_medal_ussr_dataset['ID'].count()\n",
    "medal_ussr_dataset_df = pd.DataFrame({\"Athelete Count-USSR\":medal_count_ussr})\n",
    "\n",
    "\n",
    "grouped_medal_russia_dataset =medal_russia_df.groupby(['Year','NOC'])\n",
    "medal_count_russia = grouped_medal_russia_dataset['ID'].count()\n",
    "medal_russia_dataset_df = pd.DataFrame({\"Athelete Count-RUSSIA\":medal_count_russia})\n",
    "\n",
    "\n",
    "\n",
    "print(f'Avg. Medals won in Olympics USSR  - {medal_count_ussr.mean()}')\n",
    "print(f'Avg. Medals won in Olympics Russia - {medal_count_russia.mean()}')\n",
    "\n",
    "# Calculate Independent (Two Sample) t-test\n",
    "stats.ttest_ind(medal_count_ussr, medal_count_russia, equal_var=False)"
   ]
  },
  {
   "cell_type": "markdown",
   "id": "a19a01fc",
   "metadata": {},
   "source": [
    "# Athlete Participation"
   ]
  },
  {
   "cell_type": "code",
   "execution_count": null,
   "id": "84ae3958",
   "metadata": {},
   "outputs": [],
   "source": [
    "#Athlete participation\n",
    "athlete_participation = subset_df.groupby(['Year','NOC'])['ID'].count()\n",
    "athlete_participation"
   ]
  },
  {
   "cell_type": "code",
   "execution_count": null,
   "id": "86df20bc",
   "metadata": {},
   "outputs": [],
   "source": [
    "#Athlete Participation of women and men in olympics pre and post cold war (1966-2014)\n",
    "\n",
    "plt.figure(figsize=(15,5))\n",
    "#x = subset_df['Year']\n",
    "#clrs = {\"URS\": \"#273c75\", \"RUS\":\"#44bd32\",\"EUN\":\"#44bd32\"}\n",
    "#clrs = ['blue' if (x < 1992) else 'red' for x in x]\n",
    "#sb.countplot(subset_df['Year'], palette=clrs)\n",
    "\n",
    "sb.countplot(subset_df['Year'],palette=sb.color_palette(\"Blues\", 20))\n",
    "plt.title('Overall Athletes contribution in olympics through time', fontsize=15, color='darkblue')\n",
    "\n",
    "plt.xlabel('Years', fontweight='bold', color='darkblue')\n",
    "plt.ylabel('No. of Athlete', fontweight='bold', color='darkblue')\n",
    "plt.title('Overall Athletes contribution in Olympics [1952, 2010]',fontweight='bold');\n"
   ]
  },
  {
   "cell_type": "markdown",
   "id": "9ac0d3fd",
   "metadata": {},
   "source": [
    "# Medal Analysis"
   ]
  },
  {
   "cell_type": "code",
   "execution_count": null,
   "id": "fb9d6102",
   "metadata": {},
   "outputs": [],
   "source": [
    "data_country_year_df = medal_subset_df.groupby(['Year','NOC'])['Medal'].count()\n",
    "data_country_year_df "
   ]
  },
  {
   "cell_type": "code",
   "execution_count": null,
   "id": "8e0a140a",
   "metadata": {},
   "outputs": [],
   "source": [
    "#plot\n",
    "data_country_year_df.plot.bar(figsize=(15,5))\n",
    "#colours = {\"URS\": \"#273c75\", \"RUS\":\"#44bd32\"}\n",
    "plt.title(\"Medals Won : Russia & Soviet Union (1952-2010)\",fontsize=17, color='darkblue')\n",
    "plt.xlabel('Years', fontweight='bold', color='darkblue')\n",
    "plt.ylabel('Medal Won', fontweight='bold', color='darkblue')\n",
    "#plt.axvline(x=1994, linewidth=2, color='r', ls='--')\n",
    "plt.tight_layout()\n",
    "plt.show()"
   ]
  },
  {
   "cell_type": "code",
   "execution_count": null,
   "id": "feb0b38e",
   "metadata": {},
   "outputs": [],
   "source": [
    "# plot awarded medals through years\n",
    "plt.figure(figsize=(20, 5))\n",
    "sb.countplot(data=medal_subset_df, x='Year', hue='NOC')\n",
    "plt.title(\"Medals Won : Russia & Soviet Union (1956-2012)\", fontsize=17, color='brown')\n",
    "plt.xlabel('Years', fontweight='bold', color='brown')\n",
    "plt.ylabel('Medals Won', fontweight='bold', color='brown');"
   ]
  },
  {
   "cell_type": "code",
   "execution_count": null,
   "id": "278f2499",
   "metadata": {},
   "outputs": [],
   "source": [
    "year_country_medal = medal_subset_df.groupby('Year')['Medal'].value_counts()\n",
    "#year_country_medal"
   ]
  },
  {
   "cell_type": "code",
   "execution_count": null,
   "id": "04865053",
   "metadata": {},
   "outputs": [],
   "source": [
    "# plot awarded medals through years\n",
    "plt.figure(figsize=(15, 6))\n",
    "sb.countplot(data=medal_subset_df, x='Year', hue='Medal', palette=sb.color_palette(\"YlOrBr\", 3))\n",
    "plt.title('Overall awarded Medals through years- URS & Russia', fontsize=17, color='brown')\n",
    "plt.xlabel('Years', fontweight='bold', color='brown')\n",
    "plt.ylabel('No. of Medals', fontweight='bold', color='brown');"
   ]
  },
  {
   "cell_type": "code",
   "execution_count": null,
   "id": "e0d0e24e",
   "metadata": {},
   "outputs": [],
   "source": [
    "# plot awarded medals through years\n",
    "plt.figure(figsize=(15, 6))\n",
    "sb.countplot(data=medal_complete_subset_df, x='Year', hue='Medal', palette=sb.color_palette(\"YlOrBr\", 3))\n",
    "plt.title('Overall awarded Medals through years - Soviet Union & Russia/Former Soviet States ', fontsize=17, color='brown')\n",
    "plt.xlabel('Years', fontweight='bold', color='brown')\n",
    "plt.ylabel('No. of Medals', fontweight='bold', color='brown');"
   ]
  },
  {
   "cell_type": "code",
   "execution_count": null,
   "id": "45d0cac4",
   "metadata": {},
   "outputs": [],
   "source": [
    "# Contrast between women & men awarded medals post and after coldwar\n",
    "plt.figure(figsize = [15, 5]) \n",
    "\n",
    "# plot Women & Men awarded Medals in before Cold War Olympics\n",
    "ax1 = plt.subplot(1, 2, 1)\n",
    "sb.countplot(data=medal_ussr_df, x='Medal', hue='Sex', palette=['midnightblue', 'salmon'])\n",
    "ax1.set_title('Women & Men awarded Medals - URS', fontsize=13, color='navy')\n",
    "ax1.set_xlabel('Medals', fontweight='bold', color='navy')\n",
    "ax1.set_ylabel('No. of Medals', fontweight='bold', color='navy')\n",
    "\n",
    "# plot Women & Men awarded Medals after Cold War\n",
    "ax2 = plt.subplot(1, 2, 2, sharey=ax1)\n",
    "sb.countplot(data=medal_russia_df, x='Medal', hue='Sex', palette=['salmon','midnightblue'])\n",
    "ax2.set_title('Women & Men awarded Medals - RUS', fontsize=13, color='navy')\n",
    "ax2.set_xlabel('Medals', fontweight='bold', color='navy')\n",
    "ax2.set_ylabel('No. of Medals', fontweight='bold', color='navy');\n"
   ]
  },
  {
   "cell_type": "code",
   "execution_count": null,
   "id": "54c1f1b6",
   "metadata": {},
   "outputs": [],
   "source": [
    "# Contrast between women & men awarded medals post and after coldwar\n",
    "plt.figure(figsize = [15, 5]) \n",
    "\n",
    "# plot Women & Men awarded Medals in before Cold War Olympics\n",
    "ax1 = plt.subplot(1, 2, 1)\n",
    "sb.countplot(data=medal_before_dissolution_df, x='Medal', hue='Sex', palette=['midnightblue', 'salmon'])\n",
    "ax1.set_title('Women & Men awarded Medals before 1994 Olympics Soviet Union', fontsize=13, color='navy')\n",
    "ax1.set_xlabel('Medals', fontweight='bold', color='navy')\n",
    "ax1.set_ylabel('No. of Medals', fontweight='bold', color='navy')\n",
    "\n",
    "# plot Women & Men awarded Medals after Cold War\n",
    "ax2 = plt.subplot(1, 2, 2, sharey=ax1)\n",
    "sb.countplot(data=medal_after_dissolution_df, x='Medal', hue='Sex', palette=['salmon','midnightblue'])\n",
    "ax2.set_title('Women & Men awarded Medals after Russia & Former Soviet States', fontsize=13, color='navy')\n",
    "ax2.set_xlabel('Medals', fontweight='bold', color='navy')\n",
    "ax2.set_ylabel('No. of Medals', fontweight='bold', color='navy');\n"
   ]
  },
  {
   "cell_type": "code",
   "execution_count": null,
   "id": "4078452d",
   "metadata": {},
   "outputs": [],
   "source": []
  }
 ],
 "metadata": {
  "kernelspec": {
   "display_name": "Python 3",
   "language": "python",
   "name": "python3"
  },
  "language_info": {
   "codemirror_mode": {
    "name": "ipython",
    "version": 3
   },
   "file_extension": ".py",
   "mimetype": "text/x-python",
   "name": "python",
   "nbconvert_exporter": "python",
   "pygments_lexer": "ipython3",
   "version": "3.8.8"
  }
 },
 "nbformat": 4,
 "nbformat_minor": 5
}
