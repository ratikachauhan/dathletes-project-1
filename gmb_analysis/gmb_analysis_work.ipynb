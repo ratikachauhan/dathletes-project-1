{
 "cells": [
  {
   "cell_type": "code",
   "execution_count": 1,
   "source": [
    "# Dependencies and Setup\n",
    "import matplotlib.pyplot as plt\n",
    "import pandas as pd\n",
    "import scipy.stats as st\n",
    "import numpy as np\n",
    "\n",
    "# data files\n",
    "data_path = '../Datasets/120OlympicHistory_AthletesResults_dataset/athlete_events.csv'\n",
    "\n",
    "# Read the data and filter results\n",
    "data = pd.read_csv(data_path)\n",
    "olympic_df = pd.DataFrame(data)"
   ],
   "outputs": [],
   "metadata": {}
  },
  {
   "cell_type": "code",
   "execution_count": 2,
   "source": [
    "russia_df = olympic_df.loc[(olympic_df[\"NOC\"] == \"RUS\") | (olympic_df[\"NOC\"] == \"URS\")].copy()\n",
    "russia_df.count()"
   ],
   "outputs": [
    {
     "output_type": "execute_result",
     "data": {
      "text/plain": [
       "ID        10828\n",
       "Name      10828\n",
       "Sex       10828\n",
       "Age       10643\n",
       "Height     9806\n",
       "Weight     9701\n",
       "Team      10828\n",
       "NOC       10828\n",
       "Games     10828\n",
       "Year      10828\n",
       "Season    10828\n",
       "City      10828\n",
       "Sport     10828\n",
       "Event     10828\n",
       "Medal      3668\n",
       "dtype: int64"
      ]
     },
     "metadata": {},
     "execution_count": 2
    }
   ],
   "metadata": {}
  },
  {
   "cell_type": "code",
   "execution_count": 3,
   "source": [
    "russia_medals = russia_df[\"Medal\"].unique()\n",
    "print(russia_medals)"
   ],
   "outputs": [
    {
     "output_type": "stream",
     "name": "stdout",
     "text": [
      "['Silver' nan 'Gold' 'Bronze']\n"
     ]
    }
   ],
   "metadata": {}
  },
  {
   "cell_type": "code",
   "execution_count": 4,
   "source": [
    "#gold_se = russia_df.loc[(russia_df[\"Medal\"] == \"Gold\")].groupby(\"Year\")[\"Medal\"].count()\n",
    "#silver_se = russia_df.loc[(russia_df[\"Medal\"] == \"Silver\")].groupby(\"Year\")[\"Medal\"].count()\n",
    "#gold_se = russia_df.loc[(russia_df[\"Medal\"] == \"Bronze\")].groupby(\"Year\")[\"Medal\"].count()"
   ],
   "outputs": [],
   "metadata": {}
  },
  {
   "cell_type": "code",
   "execution_count": 5,
   "source": [
    "# data on winter events\n",
    "russian_wevents_df = russia_df.loc[(russia_df[\"Year\"] >= 1966) & (russia_df[\"Year\"] <= 2014) & (russia_df[\"Season\"] == \"Winter\")].groupby(\"Year\")[\"Event\"].unique()\n",
    "russian_wevents_df = pd.DataFrame(russian_wevents_df)\n",
    "russian_wevents_df[\"Total_Events\"] = russian_wevents_df[\"Event\"].str.len()\n",
    "russian_wevents_df.sort_values([\"Year\"], ascending=True, inplace=True)\n",
    "\n",
    "# data on winter athletes\n",
    "russian_wathletes_df = russia_df.loc[(russia_df[\"Year\"] >= 1966) & (russia_df[\"Year\"] <= 2014) & (russia_df[\"Season\"] == \"Winter\")].groupby(\"Year\")[\"Name\"].unique()\n",
    "russian_wathletes_df = pd.DataFrame(russian_wathletes_df)\n",
    "russian_wathletes_df[\"Total_Athletes\"] = russian_wathletes_df[\"Name\"].str.len()\n",
    "russian_wathletes_df.sort_values([\"Year\"], ascending=True, inplace=True)\n",
    "print(russian_wevents_df)\n",
    "print(russian_wathletes_df)"
   ],
   "outputs": [
    {
     "output_type": "stream",
     "name": "stdout",
     "text": [
      "                                                  Event  Total_Events\n",
      "Year                                                                 \n",
      "1968  [Cross Country Skiing Women's 5 kilometres, Cr...            30\n",
      "1972  [Nordic Combined Men's Individual, Biathlon Me...            33\n",
      "1976  [Ice Hockey Men's Ice Hockey, Cross Country Sk...            35\n",
      "1980  [Biathlon Men's 10 kilometres Sprint, Biathlon...            35\n",
      "1984  [Bobsleigh Men's Two, Bobsleigh Men's Four, Lu...            38\n",
      "1988  [Luge Mixed (Men)'s Doubles, Figure Skating Mi...            40\n",
      "1994  [Ice Hockey Men's Ice Hockey, Speed Skating Me...            56\n",
      "1998  [Biathlon Women's 7.5 kilometres Sprint, Biath...            52\n",
      "2002  [Figure Skating Men's Singles, Ice Hockey Men'...            62\n",
      "2006  [Speed Skating Women's 1,000 metres, Speed Ska...            75\n",
      "2010  [Speed Skating Women's 1,500 metres, Bobsleigh...            77\n",
      "2014  [Alpine Skiing Women's Slalom, Short Track Spe...            94\n",
      "                                                   Name  Total_Athletes\n",
      "Year                                                                   \n",
      "1968  [Rita Nikolayevna Achkina, Anatoly Vasilyevich...              74\n",
      "1972  [Mikhail Vasilyevich Artyukhov, Ivan Ivanovych...              76\n",
      "1976  [Boris Viktorovich Aleksandrov, Zinaida Stepan...              79\n",
      "1980  [Vladimir Aleksandrovich Alikin, Anatoly Nikol...              86\n",
      "1984  [Vladimir Petrovich Aleksandrov, Ingrda Amanto...              99\n",
      "1988  [Dmitry Sergeyevich Alekseyev, Nataliya Valery...             101\n",
      "1994  [Sergey Mikhaylovich Abramov, Andrey Anufriyen...             113\n",
      "1998  [Albina Khamitovna Akhatova, Olesya Murtazaliy...             122\n",
      "2002  [Aleksandr Viktorovich \"Sasha\" Abt, Maksim Ser...             151\n",
      "2006  [Yekaterina Konstantinovna Abramova, Maksim Se...             174\n",
      "2010  [Yekaterina Konstantinovna Abramova, Dmitry Vl...             175\n",
      "2014  [Kseniya Alekseyevna Alopina, Viktor An, Artyo...             213\n"
     ]
    }
   ],
   "metadata": {}
  },
  {
   "cell_type": "code",
   "execution_count": 6,
   "source": [
    "\n",
    "# data on summer events\n",
    "russian_sevents_df = russia_df.loc[(russia_df[\"Year\"] >= 1966) & (russia_df[\"Year\"] <= 2014) & (russia_df[\"Season\"] == \"Summer\")].groupby(\"Year\")[\"Event\"].unique()\n",
    "russian_sevents_df = pd.DataFrame(russian_sevents_df)\n",
    "russian_sevents_df[\"Total_Events\"] = russian_sevents_df[\"Event\"].str.len()\n",
    "russian_sevents_df.sort_values([\"Year\"], ascending=True, inplace=True)\n",
    "\n",
    "# data on summer athletes\n",
    "russian_sathletes_df = russia_df.loc[(russia_df[\"Year\"] >= 1966) & (russia_df[\"Year\"] <= 2014) & (russia_df[\"Season\"] == \"Summer\")].groupby(\"Year\")[\"Name\"].unique()\n",
    "russian_sathletes_df = pd.DataFrame(russian_sathletes_df)\n",
    "russian_sathletes_df[\"Total_Athletes\"] = russian_sathletes_df[\"Name\"].str.len()\n",
    "russian_sathletes_df.sort_values([\"Year\"], ascending=True, inplace=True)\n",
    "\n",
    "print(russian_sevents_df)\n",
    "print(russian_sathletes_df)"
   ],
   "outputs": [
    {
     "output_type": "stream",
     "name": "stdout",
     "text": [
      "                                                  Event  Total_Events\n",
      "Year                                                                 \n",
      "1968  [Sailing Mixed Three Person Keelboat, Athletic...           164\n",
      "1972  [Wrestling Men's Featherweight, Freestyle, Swi...           180\n",
      "1976  [Fencing Men's epee, Individual, Fencing Men's...           189\n",
      "1980  [Athletics Women's Shot Put, Athletics Men's 5...           202\n",
      "1988  [Cycling Men's Road Race, Individual, Swimming...           221\n",
      "1996  [Athletics Men's Decathlon, Athletics Women's ...           212\n",
      "2000  [Basketball Women's Basketball, Water Polo Wom...           238\n",
      "2004  [Cycling Women's Sprint, Cycling Women's 500 m...           235\n",
      "2008  [Athletics Women's Javelin Throw, Athletics Wo...           242\n",
      "2012  [Athletics Women's Javelin Throw, Gymnastics M...           238\n",
      "                                                   Name  Total_Athletes\n",
      "Year                                                                   \n",
      "1968  [Valery Yevgenyevich Afanasyev, Gennady Mikhay...             312\n",
      "1972  [Zagalav Abdulbekovich Abdulbekov, Viktor Andr...             371\n",
      "1976  [Aleksandr Veniaminovich Abushakhmetov, Liudmy...             410\n",
      "1980  [Nunu Dzhansuhivna Abashydze (-Myslaieva), Val...             489\n",
      "1988  [Dzhamolidin Mirgarifanovich Abduzhaparov, Inn...             480\n",
      "1996  [Nikolay Konstantinovich Afanasyev, Yelena Ale...             390\n",
      "2000  [Svetlana Olegovna Abrosimova, Marina Dazmirov...             435\n",
      "2004  [Tamila Rashidovna Abasova, Pavel Sergeyevich ...             446\n",
      "2008  [Mariya Vasilyevna Abakumova (-Tarabina), Inga...             454\n",
      "2012  [Mariya Vasilyevna Abakumova (-Tarabina), Deni...             429\n"
     ]
    }
   ],
   "metadata": {}
  },
  {
   "cell_type": "code",
   "execution_count": 10,
   "source": [
    "russian_winter_olympics_df = pd.merge(russian_wevents_df, russian_wathletes_df, how=\"left\", on=\"Year\")\n",
    "russian_winter_olympics_df.drop([\"Event\",\"Name\"], axis=1, inplace=True)\n",
    "russian_winter_olympics_df.reset_index(inplace=True)\n",
    "print(russian_winter_olympics_df)"
   ],
   "outputs": [
    {
     "output_type": "stream",
     "name": "stdout",
     "text": [
      "    Year  Total_Events  Total_Athletes\n",
      "0   1968            30              74\n",
      "1   1972            33              76\n",
      "2   1976            35              79\n",
      "3   1980            35              86\n",
      "4   1984            38              99\n",
      "5   1988            40             101\n",
      "6   1994            56             113\n",
      "7   1998            52             122\n",
      "8   2002            62             151\n",
      "9   2006            75             174\n",
      "10  2010            77             175\n",
      "11  2014            94             213\n"
     ]
    }
   ],
   "metadata": {}
  },
  {
   "cell_type": "code",
   "execution_count": 22,
   "source": [
    "# chart the Russian winter olympic data\n",
    "x_axis = russian_winter_olympics_df[\"Year\"]\n",
    "events = russian_winter_olympics_df[\"Total_Events\"]\n",
    "athletes = russian_winter_olympics_df[\"Total_Athletes\"]\n",
    "plt.title(\"Russian Winter Olympics\")\n",
    "plt.xlabel(\"Winter Olympic Year\")\n",
    "plt.ylabel(\"Total Events & Athletes\")\n",
    "event_handle, = plt.plot(x_axis, events, marker ='o', color='blue', label=\"Events\")\n",
    "athletes_handle, = plt.plot(x_axis, athletes, marker ='x', color='red', label=\"Athletes\")\n",
    "plt.legend(loc=\"lower right\")\n",
    "plt.plot(x_axis, events)\n",
    "plt.plot(x_axis, athletes)\n",
    "plt.xticks(x_axis)\n",
    "plt.tight_layout()\n",
    "#plt.savefig(\"../Images/WinterAthletesEvents.png\")\n",
    "plt.show()"
   ],
   "outputs": [
    {
     "output_type": "display_data",
     "data": {
      "text/plain": [
       "<Figure size 432x288 with 1 Axes>"
      ],
      "image/png": "[encoded data removed]"
     },
     "metadata": {
      "needs_background": "light"
     }
    }
   ],
   "metadata": {}
  },
  {
   "cell_type": "code",
   "execution_count": 13,
   "source": [
    "russian_summer_olympics_df = pd.merge(russian_sevents_df, russian_sathletes_df, how=\"left\", on=\"Year\")\r\n",
    "russian_summer_olympics_df.drop([\"Event\",\"Name\"], axis=1, inplace=True)\r\n",
    "russian_summer_olympics_df.reset_index(inplace=True)\r\n",
    "print(russian_summer_olympics_df)"
   ],
   "outputs": [
    {
     "output_type": "stream",
     "name": "stdout",
     "text": [
      "   Year  Total_Events  Total_Athletes\n",
      "0  1968           164             312\n",
      "1  1972           180             371\n",
      "2  1976           189             410\n",
      "3  1980           202             489\n",
      "4  1988           221             480\n",
      "5  1996           212             390\n",
      "6  2000           238             435\n",
      "7  2004           235             446\n",
      "8  2008           242             454\n",
      "9  2012           238             429\n"
     ]
    }
   ],
   "metadata": {}
  },
  {
   "cell_type": "code",
   "execution_count": 23,
   "source": [
    "# chart the Russian summer olympic data\r\n",
    "x_axis = russian_summer_olympics_df[\"Year\"]\r\n",
    "events = russian_summer_olympics_df[\"Total_Events\"]\r\n",
    "athletes = russian_summer_olympics_df[\"Total_Athletes\"]\r\n",
    "plt.title(\"Russian Summer Olympics\")\r\n",
    "plt.xlabel(\"Summer Olympic Year\")\r\n",
    "plt.ylabel(\"Total Events & Athletes\")\r\n",
    "event_handle, = plt.plot(x_axis, events, marker ='o', color='blue', label=\"Events\")\r\n",
    "athletes_handle, = plt.plot(x_axis, athletes, marker ='x', color='red', label=\"Athletes\")\r\n",
    "plt.legend(loc=\"lower right\")\r\n",
    "plt.plot(x_axis, events)\r\n",
    "plt.plot(x_axis, athletes)\r\n",
    "plt.xticks(x_axis)\r\n",
    "plt.tight_layout()\r\n",
    "#plt.savefig(\"../Images/SummerAthletesEvents.png\")\r\n",
    "plt.show()"
   ],
   "outputs": [
    {
     "output_type": "display_data",
     "data": {
      "text/plain": [
       "<Figure size 432x288 with 1 Axes>"
      ],
      "image/png": "[encoded data removed]"
     },
     "metadata": {
      "needs_background": "light"
     }
    }
   ],
   "metadata": {}
  },
  {
   "cell_type": "code",
   "execution_count": null,
   "source": [],
   "outputs": [],
   "metadata": {}
  }
 ],
 "metadata": {
  "kernelspec": {
   "display_name": "Python 3",
   "language": "python",
   "name": "python3"
  },
  "language_info": {
   "codemirror_mode": {
    "name": "ipython",
    "version": 3
   },
   "file_extension": ".py",
   "mimetype": "text/x-python",
   "name": "python",
   "nbconvert_exporter": "python",
   "pygments_lexer": "ipython3",
   "version": "3.8.8"
  }
 },
 "nbformat": 4,
 "nbformat_minor": 2
}