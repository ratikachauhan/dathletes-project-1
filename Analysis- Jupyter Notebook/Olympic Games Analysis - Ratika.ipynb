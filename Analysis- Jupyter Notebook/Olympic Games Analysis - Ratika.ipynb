{
 "cells": [
  {
   "cell_type": "code",
   "execution_count": 1,
   "id": "7b91f759",
   "metadata": {},
   "outputs": [],
   "source": [
    "import pandas as pd\n",
    "import numpy as np\n",
    "\n",
    "# For data visualization \n",
    "import seaborn as sb \n",
    "import matplotlib as mpl\n",
    "import matplotlib.pyplot as plt\n",
    "import scipy.stats as stats"
   ]
  },
  {
   "cell_type": "markdown",
   "id": "79b572f6",
   "metadata": {},
   "source": [
    "# 1. Importing Datasets "
   ]
  },
  {
   "cell_type": "code",
   "execution_count": 2,
   "id": "d9d4eac2",
   "metadata": {},
   "outputs": [],
   "source": [
    "#120OlympicHistory_AthletesResults\n",
    "\n",
    "athlete_events = pd.read_csv('../Datasets/120OlympicHistory_AthletesResults_dataset/athlete_events.csv')\n",
    "regions = pd.read_csv('../Datasets/120OlympicHistory_AthletesResults_dataset/noc_regions.csv')\n"
   ]
  },
  {
   "cell_type": "markdown",
   "id": "8e2fd5e5",
   "metadata": {},
   "source": [
    "# 2. Data Exploration - 120 Olympic History"
   ]
  },
  {
   "cell_type": "markdown",
   "id": "e4751d94",
   "metadata": {},
   "source": [
    "2.1 Exploring athlete_events dataset"
   ]
  },
  {
   "cell_type": "code",
   "execution_count": null,
   "id": "98e0ab04",
   "metadata": {},
   "outputs": [],
   "source": [
    "athlete_events.info()"
   ]
  },
  {
   "cell_type": "code",
   "execution_count": null,
   "id": "64a6932c",
   "metadata": {},
   "outputs": [],
   "source": [
    "athlete_events.describe()"
   ]
  },
  {
   "cell_type": "markdown",
   "id": "a4999296",
   "metadata": {},
   "source": [
    "# 3.  Data Cleaning"
   ]
  },
  {
   "cell_type": "markdown",
   "id": "981e481e",
   "metadata": {},
   "source": [
    "3.1 Check for null values"
   ]
  },
  {
   "cell_type": "code",
   "execution_count": 3,
   "id": "68c66521",
   "metadata": {},
   "outputs": [
    {
     "name": "stdout",
     "output_type": "stream",
     "text": [
      "ID             0\n",
      "Name           0\n",
      "Sex            0\n",
      "Age         9474\n",
      "Height     60171\n",
      "Weight     62875\n",
      "Team           0\n",
      "NOC            0\n",
      "Games          0\n",
      "Year           0\n",
      "Season         0\n",
      "City           0\n",
      "Sport          0\n",
      "Event          0\n",
      "Medal     231333\n",
      "dtype: int64\n"
     ]
    }
   ],
   "source": [
    "print(athlete_events.isnull().sum())"
   ]
  },
  {
   "cell_type": "markdown",
   "id": "656b3399",
   "metadata": {},
   "source": [
    "Null Values found in Age, Height, Weight and Medals"
   ]
  },
  {
   "cell_type": "code",
   "execution_count": 4,
   "id": "0ddb6d4e",
   "metadata": {},
   "outputs": [],
   "source": [
    "# Replacing Null VAlues in Medal by No Medal\n",
    "\n",
    "athlete_events['Medal'].fillna('No Medal', inplace = True)\n",
    "#print(athlete_events.isnull().sum())"
   ]
  },
  {
   "cell_type": "markdown",
   "id": "e3b419af",
   "metadata": {},
   "source": [
    "# 4. Merging  athlete_events and regions datasets\n"
   ]
  },
  {
   "cell_type": "markdown",
   "id": "97a6b0ca",
   "metadata": {},
   "source": [
    "4.1 Merging dataset to get a combined set of athlete events and regions.\n",
    "Complete dataset name \"olympics_dataset\""
   ]
  },
  {
   "cell_type": "code",
   "execution_count": 5,
   "id": "7bfbd945",
   "metadata": {},
   "outputs": [
    {
     "data": {
      "text/html": [
       "<div>\n",
       "<style scoped>\n",
       "    .dataframe tbody tr th:only-of-type {\n",
       "        vertical-align: middle;\n",
       "    }\n",
       "\n",
       "    .dataframe tbody tr th {\n",
       "        vertical-align: top;\n",
       "    }\n",
       "\n",
       "    .dataframe thead th {\n",
       "        text-align: right;\n",
       "    }\n",
       "</style>\n",
       "<table border=\"1\" class=\"dataframe\">\n",
       "  <thead>\n",
       "    <tr style=\"text-align: right;\">\n",
       "      <th></th>\n",
       "      <th>ID</th>\n",
       "      <th>Name</th>\n",
       "      <th>Sex</th>\n",
       "      <th>Age</th>\n",
       "      <th>Height</th>\n",
       "      <th>Weight</th>\n",
       "      <th>Team</th>\n",
       "      <th>NOC</th>\n",
       "      <th>Games</th>\n",
       "      <th>Year</th>\n",
       "      <th>Season</th>\n",
       "      <th>City</th>\n",
       "      <th>Sport</th>\n",
       "      <th>Event</th>\n",
       "      <th>Medal</th>\n",
       "      <th>region</th>\n",
       "      <th>notes</th>\n",
       "    </tr>\n",
       "  </thead>\n",
       "  <tbody>\n",
       "    <tr>\n",
       "      <th>0</th>\n",
       "      <td>1</td>\n",
       "      <td>A Dijiang</td>\n",
       "      <td>M</td>\n",
       "      <td>24.0</td>\n",
       "      <td>180.0</td>\n",
       "      <td>80.0</td>\n",
       "      <td>China</td>\n",
       "      <td>CHN</td>\n",
       "      <td>1992 Summer</td>\n",
       "      <td>1992</td>\n",
       "      <td>Summer</td>\n",
       "      <td>Barcelona</td>\n",
       "      <td>Basketball</td>\n",
       "      <td>Basketball Men's Basketball</td>\n",
       "      <td>No Medal</td>\n",
       "      <td>China</td>\n",
       "      <td>NaN</td>\n",
       "    </tr>\n",
       "    <tr>\n",
       "      <th>1</th>\n",
       "      <td>2</td>\n",
       "      <td>A Lamusi</td>\n",
       "      <td>M</td>\n",
       "      <td>23.0</td>\n",
       "      <td>170.0</td>\n",
       "      <td>60.0</td>\n",
       "      <td>China</td>\n",
       "      <td>CHN</td>\n",
       "      <td>2012 Summer</td>\n",
       "      <td>2012</td>\n",
       "      <td>Summer</td>\n",
       "      <td>London</td>\n",
       "      <td>Judo</td>\n",
       "      <td>Judo Men's Extra-Lightweight</td>\n",
       "      <td>No Medal</td>\n",
       "      <td>China</td>\n",
       "      <td>NaN</td>\n",
       "    </tr>\n",
       "    <tr>\n",
       "      <th>2</th>\n",
       "      <td>3</td>\n",
       "      <td>Gunnar Nielsen Aaby</td>\n",
       "      <td>M</td>\n",
       "      <td>24.0</td>\n",
       "      <td>NaN</td>\n",
       "      <td>NaN</td>\n",
       "      <td>Denmark</td>\n",
       "      <td>DEN</td>\n",
       "      <td>1920 Summer</td>\n",
       "      <td>1920</td>\n",
       "      <td>Summer</td>\n",
       "      <td>Antwerpen</td>\n",
       "      <td>Football</td>\n",
       "      <td>Football Men's Football</td>\n",
       "      <td>No Medal</td>\n",
       "      <td>Denmark</td>\n",
       "      <td>NaN</td>\n",
       "    </tr>\n",
       "    <tr>\n",
       "      <th>3</th>\n",
       "      <td>4</td>\n",
       "      <td>Edgar Lindenau Aabye</td>\n",
       "      <td>M</td>\n",
       "      <td>34.0</td>\n",
       "      <td>NaN</td>\n",
       "      <td>NaN</td>\n",
       "      <td>Denmark/Sweden</td>\n",
       "      <td>DEN</td>\n",
       "      <td>1900 Summer</td>\n",
       "      <td>1900</td>\n",
       "      <td>Summer</td>\n",
       "      <td>Paris</td>\n",
       "      <td>Tug-Of-War</td>\n",
       "      <td>Tug-Of-War Men's Tug-Of-War</td>\n",
       "      <td>Gold</td>\n",
       "      <td>Denmark</td>\n",
       "      <td>NaN</td>\n",
       "    </tr>\n",
       "    <tr>\n",
       "      <th>4</th>\n",
       "      <td>5</td>\n",
       "      <td>Christine Jacoba Aaftink</td>\n",
       "      <td>F</td>\n",
       "      <td>21.0</td>\n",
       "      <td>185.0</td>\n",
       "      <td>82.0</td>\n",
       "      <td>Netherlands</td>\n",
       "      <td>NED</td>\n",
       "      <td>1988 Winter</td>\n",
       "      <td>1988</td>\n",
       "      <td>Winter</td>\n",
       "      <td>Calgary</td>\n",
       "      <td>Speed Skating</td>\n",
       "      <td>Speed Skating Women's 500 metres</td>\n",
       "      <td>No Medal</td>\n",
       "      <td>Netherlands</td>\n",
       "      <td>NaN</td>\n",
       "    </tr>\n",
       "  </tbody>\n",
       "</table>\n",
       "</div>"
      ],
      "text/plain": [
       "   ID                      Name Sex   Age  Height  Weight            Team  \\\n",
       "0   1                 A Dijiang   M  24.0   180.0    80.0           China   \n",
       "1   2                  A Lamusi   M  23.0   170.0    60.0           China   \n",
       "2   3       Gunnar Nielsen Aaby   M  24.0     NaN     NaN         Denmark   \n",
       "3   4      Edgar Lindenau Aabye   M  34.0     NaN     NaN  Denmark/Sweden   \n",
       "4   5  Christine Jacoba Aaftink   F  21.0   185.0    82.0     Netherlands   \n",
       "\n",
       "   NOC        Games  Year  Season       City          Sport  \\\n",
       "0  CHN  1992 Summer  1992  Summer  Barcelona     Basketball   \n",
       "1  CHN  2012 Summer  2012  Summer     London           Judo   \n",
       "2  DEN  1920 Summer  1920  Summer  Antwerpen       Football   \n",
       "3  DEN  1900 Summer  1900  Summer      Paris     Tug-Of-War   \n",
       "4  NED  1988 Winter  1988  Winter    Calgary  Speed Skating   \n",
       "\n",
       "                              Event     Medal       region notes  \n",
       "0       Basketball Men's Basketball  No Medal        China   NaN  \n",
       "1      Judo Men's Extra-Lightweight  No Medal        China   NaN  \n",
       "2           Football Men's Football  No Medal      Denmark   NaN  \n",
       "3       Tug-Of-War Men's Tug-Of-War      Gold      Denmark   NaN  \n",
       "4  Speed Skating Women's 500 metres  No Medal  Netherlands   NaN  "
      ]
     },
     "execution_count": 5,
     "metadata": {},
     "output_type": "execute_result"
    }
   ],
   "source": [
    "olympics_dataset = pd.merge(athlete_events, regions, on = \"NOC\", how = \"left\")\n",
    "olympics_dataset.head()"
   ]
  },
  {
   "cell_type": "markdown",
   "id": "c68cbc0f",
   "metadata": {},
   "source": [
    "4.2 Exploring complete dataset"
   ]
  },
  {
   "cell_type": "code",
   "execution_count": 6,
   "id": "5a836f68",
   "metadata": {},
   "outputs": [
    {
     "name": "stdout",
     "output_type": "stream",
     "text": [
      "Number of Olympic Seasons Held : 35\n",
      "Number of Countries Participated : 230\n",
      "Number of Players Participated : 134732\n",
      "Number of Sports Conducted : 66\n",
      "Number of Medals Won :\n",
      " No Medal    231333\n",
      "Gold         13372\n",
      "Bronze       13295\n",
      "Silver       13116\n",
      "Name: Medal, dtype: int64\n"
     ]
    }
   ],
   "source": [
    "print(\"Number of Olympic Seasons Held :\", olympics_dataset['Year'].nunique())\n",
    "print(\"Number of Countries Participated :\", olympics_dataset['NOC'].nunique())\n",
    "print(\"Number of Players Participated :\", olympics_dataset['Name'].nunique())\n",
    "print(\"Number of Sports Conducted :\", olympics_dataset['Sport'].nunique())\n",
    "#print(\"Number of Medals Won :\\n\", olympics_dataset['Season'].dropna().value_counts())\n",
    "print(\"Number of Medals Won :\\n\", olympics_dataset['Medal'].dropna().value_counts())"
   ]
  },
  {
   "cell_type": "markdown",
   "id": "d576a012",
   "metadata": {},
   "source": [
    "# Subset data for Russia / Former Soviet States & Soviet Union "
   ]
  },
  {
   "cell_type": "code",
   "execution_count": 7,
   "id": "3e8acd9d",
   "metadata": {},
   "outputs": [],
   "source": [
    "# Complete Dataset for Russia and Soviet Union [1952, 2010]\n",
    "subset_df = olympics_dataset.loc[((olympics_dataset['NOC'] == 'URS')|(olympics_dataset['NOC'] == 'RUS')| (olympics_dataset['NOC'] == 'EUN')) \n",
    "                                 & (olympics_dataset['Year'] >= 1952) & (olympics_dataset['Year'] <= 2010)]\n",
    "#USSR Dataset [1966 - 1991]\n",
    "ussr_df = subset_df.loc[(subset_df['NOC'] == 'URS' ) & (subset_df['Year'] <= 1991)]\n",
    "# Russia DataSet [1992 - 2014]\n",
    "russia_df = subset_df.loc[((subset_df['NOC'] == 'RUS')|(subset_df['NOC'] == 'EUN')) & (subset_df['Year'] >= 1992)]"
   ]
  },
  {
   "cell_type": "code",
   "execution_count": 8,
   "id": "fb7cd925",
   "metadata": {},
   "outputs": [
    {
     "data": {
      "text/html": [
       "<div>\n",
       "<style scoped>\n",
       "    .dataframe tbody tr th:only-of-type {\n",
       "        vertical-align: middle;\n",
       "    }\n",
       "\n",
       "    .dataframe tbody tr th {\n",
       "        vertical-align: top;\n",
       "    }\n",
       "\n",
       "    .dataframe thead th {\n",
       "        text-align: right;\n",
       "    }\n",
       "</style>\n",
       "<table border=\"1\" class=\"dataframe\">\n",
       "  <thead>\n",
       "    <tr style=\"text-align: right;\">\n",
       "      <th></th>\n",
       "      <th>Year</th>\n",
       "      <th>NOC</th>\n",
       "      <th>Athlete Count</th>\n",
       "      <th>Medal Count</th>\n",
       "    </tr>\n",
       "  </thead>\n",
       "  <tbody>\n",
       "    <tr>\n",
       "      <th>0</th>\n",
       "      <td>1952</td>\n",
       "      <td>URS</td>\n",
       "      <td>451</td>\n",
       "      <td>117</td>\n",
       "    </tr>\n",
       "    <tr>\n",
       "      <th>1</th>\n",
       "      <td>1956</td>\n",
       "      <td>URS</td>\n",
       "      <td>492</td>\n",
       "      <td>206</td>\n",
       "    </tr>\n",
       "    <tr>\n",
       "      <th>2</th>\n",
       "      <td>1960</td>\n",
       "      <td>URS</td>\n",
       "      <td>505</td>\n",
       "      <td>211</td>\n",
       "    </tr>\n",
       "    <tr>\n",
       "      <th>3</th>\n",
       "      <td>1964</td>\n",
       "      <td>URS</td>\n",
       "      <td>570</td>\n",
       "      <td>221</td>\n",
       "    </tr>\n",
       "    <tr>\n",
       "      <th>4</th>\n",
       "      <td>1968</td>\n",
       "      <td>URS</td>\n",
       "      <td>592</td>\n",
       "      <td>229</td>\n",
       "    </tr>\n",
       "    <tr>\n",
       "      <th>5</th>\n",
       "      <td>1972</td>\n",
       "      <td>URS</td>\n",
       "      <td>649</td>\n",
       "      <td>259</td>\n",
       "    </tr>\n",
       "    <tr>\n",
       "      <th>6</th>\n",
       "      <td>1976</td>\n",
       "      <td>URS</td>\n",
       "      <td>695</td>\n",
       "      <td>342</td>\n",
       "    </tr>\n",
       "    <tr>\n",
       "      <th>7</th>\n",
       "      <td>1980</td>\n",
       "      <td>URS</td>\n",
       "      <td>789</td>\n",
       "      <td>496</td>\n",
       "    </tr>\n",
       "    <tr>\n",
       "      <th>8</th>\n",
       "      <td>1984</td>\n",
       "      <td>URS</td>\n",
       "      <td>143</td>\n",
       "      <td>56</td>\n",
       "    </tr>\n",
       "    <tr>\n",
       "      <th>9</th>\n",
       "      <td>1988</td>\n",
       "      <td>URS</td>\n",
       "      <td>799</td>\n",
       "      <td>366</td>\n",
       "    </tr>\n",
       "    <tr>\n",
       "      <th>10</th>\n",
       "      <td>1992</td>\n",
       "      <td>EUN</td>\n",
       "      <td>864</td>\n",
       "      <td>279</td>\n",
       "    </tr>\n",
       "    <tr>\n",
       "      <th>11</th>\n",
       "      <td>1994</td>\n",
       "      <td>RUS</td>\n",
       "      <td>208</td>\n",
       "      <td>36</td>\n",
       "    </tr>\n",
       "    <tr>\n",
       "      <th>12</th>\n",
       "      <td>1996</td>\n",
       "      <td>RUS</td>\n",
       "      <td>552</td>\n",
       "      <td>115</td>\n",
       "    </tr>\n",
       "    <tr>\n",
       "      <th>13</th>\n",
       "      <td>1998</td>\n",
       "      <td>RUS</td>\n",
       "      <td>197</td>\n",
       "      <td>52</td>\n",
       "    </tr>\n",
       "    <tr>\n",
       "      <th>14</th>\n",
       "      <td>2000</td>\n",
       "      <td>RUS</td>\n",
       "      <td>602</td>\n",
       "      <td>187</td>\n",
       "    </tr>\n",
       "    <tr>\n",
       "      <th>15</th>\n",
       "      <td>2002</td>\n",
       "      <td>RUS</td>\n",
       "      <td>240</td>\n",
       "      <td>38</td>\n",
       "    </tr>\n",
       "    <tr>\n",
       "      <th>16</th>\n",
       "      <td>2004</td>\n",
       "      <td>RUS</td>\n",
       "      <td>593</td>\n",
       "      <td>189</td>\n",
       "    </tr>\n",
       "    <tr>\n",
       "      <th>17</th>\n",
       "      <td>2006</td>\n",
       "      <td>RUS</td>\n",
       "      <td>283</td>\n",
       "      <td>41</td>\n",
       "    </tr>\n",
       "    <tr>\n",
       "      <th>18</th>\n",
       "      <td>2008</td>\n",
       "      <td>RUS</td>\n",
       "      <td>600</td>\n",
       "      <td>142</td>\n",
       "    </tr>\n",
       "    <tr>\n",
       "      <th>19</th>\n",
       "      <td>2010</td>\n",
       "      <td>RUS</td>\n",
       "      <td>279</td>\n",
       "      <td>25</td>\n",
       "    </tr>\n",
       "  </tbody>\n",
       "</table>\n",
       "</div>"
      ],
      "text/plain": [
       "    Year  NOC  Athlete Count  Medal Count\n",
       "0   1952  URS            451          117\n",
       "1   1956  URS            492          206\n",
       "2   1960  URS            505          211\n",
       "3   1964  URS            570          221\n",
       "4   1968  URS            592          229\n",
       "5   1972  URS            649          259\n",
       "6   1976  URS            695          342\n",
       "7   1980  URS            789          496\n",
       "8   1984  URS            143           56\n",
       "9   1988  URS            799          366\n",
       "10  1992  EUN            864          279\n",
       "11  1994  RUS            208           36\n",
       "12  1996  RUS            552          115\n",
       "13  1998  RUS            197           52\n",
       "14  2000  RUS            602          187\n",
       "15  2002  RUS            240           38\n",
       "16  2004  RUS            593          189\n",
       "17  2006  RUS            283           41\n",
       "18  2008  RUS            600          142\n",
       "19  2010  RUS            279           25"
      ]
     },
     "execution_count": 8,
     "metadata": {},
     "output_type": "execute_result"
    }
   ],
   "source": [
    "#athlete count\n",
    "grouped_subset_df = subset_df.groupby(['Year','NOC'])\n",
    "athlete_count = grouped_subset_df['ID'].count()\n",
    "\n",
    "#Medal Count\n",
    "medal_subset_df = subset_df.loc[(subset_df['Medal'] != 'No Medal')]\n",
    "grouped_medal_subset_df = medal_subset_df .groupby(['Year','NOC'])\n",
    "medal_count = grouped_medal_subset_df['Medal'].count()\n",
    "#medal_count = grouped_subset_df['Medal'].drop('No Medal').count()\n",
    "\n",
    "summary_subset_df = pd.DataFrame({'Athlete Count' : athlete_count,\n",
    "                               'Medal Count' :medal_count})\n",
    "summary_subset_df.reset_index()"
   ]
  },
  {
   "cell_type": "code",
   "execution_count": 47,
   "id": "89593585",
   "metadata": {},
   "outputs": [
    {
     "data": {
      "text/plain": [
       "Text(0.5, 1.0, 'Overall Athletes contribution and medal count')"
      ]
     },
     "execution_count": 47,
     "metadata": {},
     "output_type": "execute_result"
    },
    {
     "data": {
      "image/png": "[encoded data removed]",
      "text/plain": [
       "<Figure size 1080x360 with 1 Axes>"
      ]
     },
     "metadata": {
      "needs_background": "light"
     },
     "output_type": "display_data"
    }
   ],
   "source": [
    "plt.figure(figsize=(15, 5))\n",
    "sb.lineplot(data=summary_subset_df, x=\"Year\", y=\"Athlete Count\",linewidth = 3)\n",
    "sb.lineplot(data=summary_subset_df, x=\"Year\", y=\"Medal Count\",linewidth = 3)\n",
    "plt.legend([\"Athlete Count\", 'Medal Count'])\n",
    "plt.title('Overall Athletes contribution and medal count', fontsize=15, color='darkblue')"
   ]
  },
  {
   "cell_type": "markdown",
   "id": "4f55499d",
   "metadata": {},
   "source": [
    "# Medal Subset"
   ]
  },
  {
   "cell_type": "code",
   "execution_count": 16,
   "id": "7572093a",
   "metadata": {},
   "outputs": [],
   "source": [
    "medal_subset_df = subset_df.loc[(subset_df['Medal'] != 'No Medal')]\n",
    "#USSR Dataset [1966 - 1991]\n",
    "medal_ussr_df = medal_subset_df.loc[(medal_subset_df['NOC'] == 'URS' ) & (medal_subset_df['Year'] <= 1991)]\n",
    "# Russia DataSet [1992 - 2014]\n",
    "medal_russia_df = medal_subset_df.loc[((medal_subset_df['NOC'] == 'RUS')| (medal_subset_df['NOC'] == 'EUN')) & (medal_subset_df['Year'] >= 1992)]"
   ]
  },
  {
   "cell_type": "code",
   "execution_count": 17,
   "id": "10861a14",
   "metadata": {},
   "outputs": [],
   "source": [
    "#group by season athlete count\n",
    "grouped_subset_df = subset_df.groupby(['Year','NOC','Season'])['ID'].count()\n",
    "#athlete_count = grouped_subset_df['ID'].count()\n"
   ]
  },
  {
   "cell_type": "markdown",
   "id": "db10e9b3",
   "metadata": {},
   "source": [
    "# Hypothesis Testing\n"
   ]
  },
  {
   "cell_type": "markdown",
   "id": "6238e246",
   "metadata": {},
   "source": [
    "Did cold war impact the participation of Athletes in olympics?"
   ]
  },
  {
   "cell_type": "code",
   "execution_count": 20,
   "id": "ac4f63c2",
   "metadata": {},
   "outputs": [
    {
     "name": "stdout",
     "output_type": "stream",
     "text": [
      "Avg. Athlete participation in Olympics USSR 568.5\n",
      "Avg. Athlete participation in Olympics Russia 441.8\n"
     ]
    },
    {
     "data": {
      "text/plain": [
       "Ttest_indResult(statistic=1.3434265259808562, pvalue=0.1963402457948084)"
      ]
     },
     "execution_count": 20,
     "metadata": {},
     "output_type": "execute_result"
    }
   ],
   "source": [
    "#Impact on participation\n",
    "grouped_ussr_dataset =ussr_df.groupby(['Year','NOC'])\n",
    "athlete_count_ussr = grouped_ussr_dataset['ID'].count()\n",
    "ussr_dataset_df = pd.DataFrame({\"Athelete Count-USSR\":athlete_count_ussr})\n",
    "\n",
    "\n",
    "grouped_russia_dataset =russia_df.groupby(['Year','NOC'])\n",
    "athlete_count_russia = grouped_russia_dataset['ID'].count()\n",
    "russia_dataset_df = pd.DataFrame({\"Athelete Count-RUSSIA\":athlete_count_russia})\n",
    "\n",
    "print(f'Avg. Athlete participation in Olympics USSR {athlete_count_ussr.mean()}')\n",
    "print(f'Avg. Athlete participation in Olympics Russia {athlete_count_russia.mean()}')\n",
    "\n",
    "# Calculate Independent (Two Sample) t-test\n",
    "stats.ttest_ind(athlete_count_ussr, athlete_count_russia, equal_var=False)"
   ]
  },
  {
   "cell_type": "markdown",
   "id": "1cc36848",
   "metadata": {},
   "source": [
    "Did cold war impact the medals won in olympics?"
   ]
  },
  {
   "cell_type": "code",
   "execution_count": 21,
   "id": "1eafced7",
   "metadata": {},
   "outputs": [
    {
     "name": "stdout",
     "output_type": "stream",
     "text": [
      "Avg. Medals won in Olympics by USSR [before 1992] - 250.3\n",
      "Avg. Medals won in Olympics Russia [after 1991] - 110.4\n"
     ]
    },
    {
     "data": {
      "text/plain": [
       "Ttest_indResult(statistic=2.893667416678546, pvalue=0.010589405839461373)"
      ]
     },
     "execution_count": 21,
     "metadata": {},
     "output_type": "execute_result"
    }
   ],
   "source": [
    "#Impact on medals won\n",
    "grouped_medal_ussr_dataset =medal_ussr_df.groupby(['Year','NOC'])\n",
    "medal_count_ussr = grouped_medal_ussr_dataset['ID'].count()\n",
    "medal_ussr_dataset_df = pd.DataFrame({\"Athelete Count-USSR\":medal_count_ussr})\n",
    "\n",
    "\n",
    "grouped_medal_russia_dataset =medal_russia_df.groupby(['Year','NOC'])\n",
    "medal_count_russia = grouped_medal_russia_dataset['ID'].count()\n",
    "medal_russia_dataset_df = pd.DataFrame({\"Athelete Count-RUSSIA\":medal_count_russia})\n",
    "\n",
    "print(f'Avg. Medals won in Olympics by USSR [before 1992] - {medal_count_ussr.mean()}')\n",
    "print(f'Avg. Medals won in Olympics Russia [after 1991] - {medal_count_russia.mean()}')\n",
    "\n",
    "# Calculate Independent (Two Sample) t-test\n",
    "stats.ttest_ind(medal_count_ussr, medal_count_russia, equal_var=False)"
   ]
  },
  {
   "cell_type": "markdown",
   "id": "a19a01fc",
   "metadata": {},
   "source": [
    "# Athlete Participation"
   ]
  },
  {
   "cell_type": "code",
   "execution_count": 22,
   "id": "84ae3958",
   "metadata": {},
   "outputs": [
    {
     "data": {
      "text/plain": [
       "Year  NOC\n",
       "1952  URS    451\n",
       "1956  URS    492\n",
       "1960  URS    505\n",
       "1964  URS    570\n",
       "1968  URS    592\n",
       "1972  URS    649\n",
       "1976  URS    695\n",
       "1980  URS    789\n",
       "1984  URS    143\n",
       "1988  URS    799\n",
       "1992  EUN    864\n",
       "1994  RUS    208\n",
       "1996  RUS    552\n",
       "1998  RUS    197\n",
       "2000  RUS    602\n",
       "2002  RUS    240\n",
       "2004  RUS    593\n",
       "2006  RUS    283\n",
       "2008  RUS    600\n",
       "2010  RUS    279\n",
       "Name: ID, dtype: int64"
      ]
     },
     "execution_count": 22,
     "metadata": {},
     "output_type": "execute_result"
    }
   ],
   "source": [
    "#Athlete participation\n",
    "athlete_participation = subset_df.groupby(['Year','NOC'])['ID'].count()\n",
    "athlete_participation"
   ]
  },
  {
   "cell_type": "code",
   "execution_count": 41,
   "id": "86df20bc",
   "metadata": {},
   "outputs": [
    {
     "name": "stderr",
     "output_type": "stream",
     "text": [
      "C:\\ProgramData\\Anaconda3\\lib\\site-packages\\seaborn\\_decorators.py:36: FutureWarning: Pass the following variable as a keyword arg: x. From version 0.12, the only valid positional argument will be `data`, and passing other arguments without an explicit keyword will result in an error or misinterpretation.\n",
      "  warnings.warn(\n"
     ]
    },
    {
     "data": {
      "image/png": "[encoded data removed]",
      "text/plain": [
       "<Figure size 1080x360 with 1 Axes>"
      ]
     },
     "metadata": {
      "needs_background": "light"
     },
     "output_type": "display_data"
    }
   ],
   "source": [
    "#Athlete Participation of women and men in olympics pre and post cold war (1966-2014)\n",
    "\n",
    "plt.figure(figsize=(15,5))\n",
    "#x = subset_df['Year']\n",
    "#clrs = {\"URS\": \"#273c75\", \"RUS\":\"#44bd32\",\"EUN\":\"#44bd32\"}\n",
    "#clrs = ['blue' if (x < 1992) else 'red' for x in x]\n",
    "#sb.countplot(subset_df['Year'], palette=clrs)\n",
    "\n",
    "sb.countplot(subset_df['Year'],palette=sb.color_palette(\"Blues\", 20))\n",
    "plt.title('Overall Athletes contribution in olympics through time', fontsize=15, color='darkblue')\n",
    "plt.xlabel('Years', fontweight='bold', color='darkblue')\n",
    "plt.ylabel('No. of Athlete', fontweight='bold', color='darkblue')\n",
    "plt.title('Overall Athletes contribution in Olympics [1952, 2010]',fontweight='bold');\n"
   ]
  },
  {
   "cell_type": "markdown",
   "id": "9ac0d3fd",
   "metadata": {},
   "source": [
    "# Medal Analysis"
   ]
  },
  {
   "cell_type": "code",
   "execution_count": 24,
   "id": "fb9d6102",
   "metadata": {},
   "outputs": [
    {
     "data": {
      "text/plain": [
       "Year  NOC\n",
       "1952  URS    117\n",
       "1956  URS    206\n",
       "1960  URS    211\n",
       "1964  URS    221\n",
       "1968  URS    229\n",
       "1972  URS    259\n",
       "1976  URS    342\n",
       "1980  URS    496\n",
       "1984  URS     56\n",
       "1988  URS    366\n",
       "1992  EUN    279\n",
       "1994  RUS     36\n",
       "1996  RUS    115\n",
       "1998  RUS     52\n",
       "2000  RUS    187\n",
       "2002  RUS     38\n",
       "2004  RUS    189\n",
       "2006  RUS     41\n",
       "2008  RUS    142\n",
       "2010  RUS     25\n",
       "Name: Medal, dtype: int64"
      ]
     },
     "execution_count": 24,
     "metadata": {},
     "output_type": "execute_result"
    }
   ],
   "source": [
    "data_country_year_df = medal_subset_df.groupby(['Year','NOC'])['Medal'].count()\n",
    "data_country_year_df "
   ]
  },
  {
   "cell_type": "code",
   "execution_count": 40,
   "id": "8e0a140a",
   "metadata": {},
   "outputs": [
    {
     "data": {
      "image/png": "[encoded data removed]",
      "text/plain": [
       "<Figure size 1080x360 with 1 Axes>"
      ]
     },
     "metadata": {
      "needs_background": "light"
     },
     "output_type": "display_data"
    }
   ],
   "source": [
    "#plot\n",
    "data_country_year_df.plot.bar(figsize=(15,5))\n",
    "#colours = {\"URS\": \"#273c75\", \"RUS\":\"#44bd32\"}\n",
    "plt.title(\"Medals Won : Russia & Soviet Union (1952-2010)\",fontsize=17, color='darkblue')\n",
    "plt.xlabel('Years', fontweight='bold', color='darkblue')\n",
    "plt.ylabel('Medal Won', fontweight='bold', color='darkblue')\n",
    "plt.tight_layout()\n",
    "plt.show()"
   ]
  },
  {
   "cell_type": "code",
   "execution_count": 39,
   "id": "feb0b38e",
   "metadata": {},
   "outputs": [
    {
     "data": {
      "image/png": "[encoded data removed]",
      "text/plain": [
       "<Figure size 1440x360 with 1 Axes>"
      ]
     },
     "metadata": {
      "needs_background": "light"
     },
     "output_type": "display_data"
    }
   ],
   "source": [
    "# plot awarded medals through years\n",
    "plt.figure(figsize=(20, 5))\n",
    "sb.countplot(data=medal_subset_df, x='Year', hue='NOC')\n",
    "\n",
    "plt.title(\"Medals Won : Russia & Soviet Union (1952-2010)\", fontsize=17, color='brown')\n",
    "plt.xlabel('Years', fontweight='bold', color='brown')\n",
    "plt.ylabel('Medals Won', fontweight='bold', color='brown');"
   ]
  },
  {
   "cell_type": "code",
   "execution_count": 27,
   "id": "278f2499",
   "metadata": {},
   "outputs": [],
   "source": [
    "year_country_medal = medal_subset_df.groupby('Year')['Medal'].value_counts()\n",
    "#year_country_medal"
   ]
  },
  {
   "cell_type": "markdown",
   "id": "5b3becbf",
   "metadata": {},
   "source": [
    "Medal Count - Alternate"
   ]
  },
  {
   "cell_type": "code",
   "execution_count": 29,
   "id": "70c21ba8",
   "metadata": {},
   "outputs": [
    {
     "data": {
      "text/plain": [
       "<AxesSubplot:xlabel='Year', ylabel='Medal'>"
      ]
     },
     "execution_count": 29,
     "metadata": {},
     "output_type": "execute_result"
    },
    {
     "data": {
      "image/png": "[encoded data removed]",
      "text/plain": [
       "<Figure size 1080x360 with 1 Axes>"
      ]
     },
     "metadata": {
      "needs_background": "light"
     },
     "output_type": "display_data"
    }
   ],
   "source": [
    "country_medal_count = medal_subset_df.groupby(['Year','NOC'])['Medal'].count().reset_index()\n",
    "country_medal_count.sort_values(by = 'Year')\n",
    "\n",
    "plt.figure(figsize=(15, 5))\n",
    "sb.lineplot(data = country_medal_count, x = 'Year' , y='Medal')"
   ]
  },
  {
   "cell_type": "code",
   "execution_count": 30,
   "id": "2358a446",
   "metadata": {},
   "outputs": [
    {
     "data": {
      "text/html": [
       "<div>\n",
       "<style scoped>\n",
       "    .dataframe tbody tr th:only-of-type {\n",
       "        vertical-align: middle;\n",
       "    }\n",
       "\n",
       "    .dataframe tbody tr th {\n",
       "        vertical-align: top;\n",
       "    }\n",
       "\n",
       "    .dataframe thead th {\n",
       "        text-align: right;\n",
       "    }\n",
       "</style>\n",
       "<table border=\"1\" class=\"dataframe\">\n",
       "  <thead>\n",
       "    <tr style=\"text-align: right;\">\n",
       "      <th></th>\n",
       "      <th>Year</th>\n",
       "      <th>NOC</th>\n",
       "      <th>Medal</th>\n",
       "    </tr>\n",
       "  </thead>\n",
       "  <tbody>\n",
       "    <tr>\n",
       "      <th>0</th>\n",
       "      <td>1952</td>\n",
       "      <td>URS</td>\n",
       "      <td>117</td>\n",
       "    </tr>\n",
       "    <tr>\n",
       "      <th>1</th>\n",
       "      <td>1956</td>\n",
       "      <td>URS</td>\n",
       "      <td>206</td>\n",
       "    </tr>\n",
       "    <tr>\n",
       "      <th>2</th>\n",
       "      <td>1960</td>\n",
       "      <td>URS</td>\n",
       "      <td>211</td>\n",
       "    </tr>\n",
       "    <tr>\n",
       "      <th>3</th>\n",
       "      <td>1964</td>\n",
       "      <td>URS</td>\n",
       "      <td>221</td>\n",
       "    </tr>\n",
       "    <tr>\n",
       "      <th>4</th>\n",
       "      <td>1968</td>\n",
       "      <td>URS</td>\n",
       "      <td>229</td>\n",
       "    </tr>\n",
       "    <tr>\n",
       "      <th>5</th>\n",
       "      <td>1972</td>\n",
       "      <td>URS</td>\n",
       "      <td>259</td>\n",
       "    </tr>\n",
       "    <tr>\n",
       "      <th>6</th>\n",
       "      <td>1976</td>\n",
       "      <td>URS</td>\n",
       "      <td>342</td>\n",
       "    </tr>\n",
       "    <tr>\n",
       "      <th>7</th>\n",
       "      <td>1980</td>\n",
       "      <td>URS</td>\n",
       "      <td>496</td>\n",
       "    </tr>\n",
       "    <tr>\n",
       "      <th>8</th>\n",
       "      <td>1984</td>\n",
       "      <td>URS</td>\n",
       "      <td>56</td>\n",
       "    </tr>\n",
       "    <tr>\n",
       "      <th>9</th>\n",
       "      <td>1988</td>\n",
       "      <td>URS</td>\n",
       "      <td>366</td>\n",
       "    </tr>\n",
       "    <tr>\n",
       "      <th>10</th>\n",
       "      <td>1992</td>\n",
       "      <td>EUN</td>\n",
       "      <td>279</td>\n",
       "    </tr>\n",
       "    <tr>\n",
       "      <th>11</th>\n",
       "      <td>1994</td>\n",
       "      <td>RUS</td>\n",
       "      <td>36</td>\n",
       "    </tr>\n",
       "    <tr>\n",
       "      <th>12</th>\n",
       "      <td>1996</td>\n",
       "      <td>RUS</td>\n",
       "      <td>115</td>\n",
       "    </tr>\n",
       "    <tr>\n",
       "      <th>13</th>\n",
       "      <td>1998</td>\n",
       "      <td>RUS</td>\n",
       "      <td>52</td>\n",
       "    </tr>\n",
       "    <tr>\n",
       "      <th>14</th>\n",
       "      <td>2000</td>\n",
       "      <td>RUS</td>\n",
       "      <td>187</td>\n",
       "    </tr>\n",
       "    <tr>\n",
       "      <th>15</th>\n",
       "      <td>2002</td>\n",
       "      <td>RUS</td>\n",
       "      <td>38</td>\n",
       "    </tr>\n",
       "    <tr>\n",
       "      <th>16</th>\n",
       "      <td>2004</td>\n",
       "      <td>RUS</td>\n",
       "      <td>189</td>\n",
       "    </tr>\n",
       "    <tr>\n",
       "      <th>17</th>\n",
       "      <td>2006</td>\n",
       "      <td>RUS</td>\n",
       "      <td>41</td>\n",
       "    </tr>\n",
       "    <tr>\n",
       "      <th>18</th>\n",
       "      <td>2008</td>\n",
       "      <td>RUS</td>\n",
       "      <td>142</td>\n",
       "    </tr>\n",
       "    <tr>\n",
       "      <th>19</th>\n",
       "      <td>2010</td>\n",
       "      <td>RUS</td>\n",
       "      <td>25</td>\n",
       "    </tr>\n",
       "  </tbody>\n",
       "</table>\n",
       "</div>"
      ],
      "text/plain": [
       "    Year  NOC  Medal\n",
       "0   1952  URS    117\n",
       "1   1956  URS    206\n",
       "2   1960  URS    211\n",
       "3   1964  URS    221\n",
       "4   1968  URS    229\n",
       "5   1972  URS    259\n",
       "6   1976  URS    342\n",
       "7   1980  URS    496\n",
       "8   1984  URS     56\n",
       "9   1988  URS    366\n",
       "10  1992  EUN    279\n",
       "11  1994  RUS     36\n",
       "12  1996  RUS    115\n",
       "13  1998  RUS     52\n",
       "14  2000  RUS    187\n",
       "15  2002  RUS     38\n",
       "16  2004  RUS    189\n",
       "17  2006  RUS     41\n",
       "18  2008  RUS    142\n",
       "19  2010  RUS     25"
      ]
     },
     "execution_count": 30,
     "metadata": {},
     "output_type": "execute_result"
    }
   ],
   "source": [
    "country_medal_count"
   ]
  },
  {
   "cell_type": "code",
   "execution_count": 31,
   "id": "04865053",
   "metadata": {},
   "outputs": [
    {
     "data": {
      "image/png": "[encoded data removed]",
      "text/plain": [
       "<Figure size 1080x360 with 1 Axes>"
      ]
     },
     "metadata": {
      "needs_background": "light"
     },
     "output_type": "display_data"
    }
   ],
   "source": [
    "# plot awarded medals through years\n",
    "plt.figure(figsize=(15, 5))\n",
    "sb.countplot(data=medal_subset_df, x='Year', hue='Medal', palette=sb.color_palette(\"YlOrBr\", 3))\n",
    "plt.title('Overall awarded Medals through years(1952-2012)', fontsize=17, color='brown')\n",
    "plt.xlabel('Years', fontweight='bold', color='brown')\n",
    "plt.ylabel('No. of Medals', fontweight='bold', color='brown');"
   ]
  },
  {
   "cell_type": "code",
   "execution_count": 32,
   "id": "45d0cac4",
   "metadata": {},
   "outputs": [
    {
     "data": {
      "image/png": "[encoded data removed]",
      "text/plain": [
       "<Figure size 1080x360 with 2 Axes>"
      ]
     },
     "metadata": {
      "needs_background": "light"
     },
     "output_type": "display_data"
    }
   ],
   "source": [
    "# Contrast between women & men awarded medals post and after coldwar\n",
    "plt.figure(figsize = [15, 5]) \n",
    "\n",
    "# plot Women & Men awarded Medals in before Cold War Olympics\n",
    "ax1 = plt.subplot(1, 2, 1)\n",
    "sb.countplot(data=medal_ussr_df, x='Medal', hue='Sex', palette=['midnightblue', 'salmon'])\n",
    "ax1.set_title('Women & Men awarded Medals before 1992 Olympics', fontsize=13, color='navy')\n",
    "ax1.set_xlabel('Medals', fontweight='bold', color='navy')\n",
    "ax1.set_ylabel('No. of Medals', fontweight='bold', color='navy')\n",
    "\n",
    "# plot Women & Men awarded Medals after Cold War\n",
    "ax2 = plt.subplot(1, 2, 2, sharey=ax1)\n",
    "sb.countplot(data=medal_russia_df, x='Medal', hue='Sex', palette=['midnightblue', 'salmon'])\n",
    "ax2.set_title('Women & Men awarded Medals after 1991', fontsize=13, color='navy')\n",
    "ax2.set_xlabel('Medals', fontweight='bold', color='navy')\n",
    "ax2.set_ylabel('No. of Medals', fontweight='bold', color='navy');\n"
   ]
  }
 ],
 "metadata": {
  "kernelspec": {
   "display_name": "Python 3",
   "language": "python",
   "name": "python3"
  },
  "language_info": {
   "codemirror_mode": {
    "name": "ipython",
    "version": 3
   },
   "file_extension": ".py",
   "mimetype": "text/x-python",
   "name": "python",
   "nbconvert_exporter": "python",
   "pygments_lexer": "ipython3",
   "version": "3.8.8"
  }
 },
 "nbformat": 4,
 "nbformat_minor": 5
}
