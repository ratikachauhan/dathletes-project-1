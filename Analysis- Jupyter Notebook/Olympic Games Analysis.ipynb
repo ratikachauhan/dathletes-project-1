{
 "cells": [
  {
   "cell_type": "code",
   "execution_count": 1,
   "id": "7b91f759",
   "metadata": {},
   "outputs": [],
   "source": [
    "import pandas as pd\n",
    "import numpy as np\n",
    "\n",
    "# For data visualization \n",
    "import seaborn as sns \n",
    "import matplotlib as mpl\n",
    "import matplotlib.pyplot as plt"
   ]
  },
  {
   "cell_type": "code",
   "execution_count": 2,
   "id": "d9d4eac2",
   "metadata": {},
   "outputs": [],
   "source": [
    "# Olympic_Sports_Medals_1896-2014_dataset\n",
    "summer_df=pd.read_csv('../Datasets/Olympic_Sports_Medals_1896-2014_dataset/summer.csv')\n",
    "winter_df=pd.read_csv('../Datasets/Olympic_Sports_Medals_1896-2014_dataset/winter.csv')\n",
    "country_df = pd.read_csv('../Datasets/Olympic_Sports_Medals_1896-2014_dataset/dictionary.csv')\n",
    "\n",
    "#120OlympicHistory_AthletesResults\n",
    "athlete_events = pd.read_csv('../Datasets/120OlympicHistory_AthletesResults_dataset/athlete_events.csv')"
   ]
  },
  {
   "cell_type": "code",
   "execution_count": 4,
   "id": "64a6932c",
   "metadata": {},
   "outputs": [
    {
     "name": "stdout",
     "output_type": "stream",
     "text": [
      "           Country Code  Population  GDP per Capita\n",
      "0      Afghanistan  AFG  32526562.0      594.323081\n",
      "1          Albania  ALB   2889167.0     3945.217582\n",
      "2          Algeria  ALG  39666519.0     4206.031232\n",
      "3  American Samoa*  ASA     55538.0             NaN\n",
      "4          Andorra  AND     70473.0             NaN\n",
      "   Year    City     Sport Discipline             Athlete Country Gender  \\\n",
      "0  1896  Athens  Aquatics   Swimming       HAJOS, Alfred     HUN    Men   \n",
      "1  1896  Athens  Aquatics   Swimming    HERSCHMANN, Otto     AUT    Men   \n",
      "2  1896  Athens  Aquatics   Swimming   DRIVAS, Dimitrios     GRE    Men   \n",
      "3  1896  Athens  Aquatics   Swimming  MALOKINIS, Ioannis     GRE    Men   \n",
      "4  1896  Athens  Aquatics   Swimming  CHASAPIS, Spiridon     GRE    Men   \n",
      "\n",
      "                        Event   Medal  \n",
      "0              100M Freestyle    Gold  \n",
      "1              100M Freestyle  Silver  \n",
      "2  100M Freestyle For Sailors  Bronze  \n",
      "3  100M Freestyle For Sailors    Gold  \n",
      "4  100M Freestyle For Sailors  Silver  \n",
      "   Year      City     Sport Discipline               Athlete Country Gender  \\\n",
      "0  1924  Chamonix  Biathlon   Biathlon           BERTHET, G.     FRA    Men   \n",
      "1  1924  Chamonix  Biathlon   Biathlon        MANDRILLON, C.     FRA    Men   \n",
      "2  1924  Chamonix  Biathlon   Biathlon   MANDRILLON, Maurice     FRA    Men   \n",
      "3  1924  Chamonix  Biathlon   Biathlon       VANDELLE, André     FRA    Men   \n",
      "4  1924  Chamonix  Biathlon   Biathlon  AUFDENBLATTEN, Adolf     SUI    Men   \n",
      "\n",
      "             Event   Medal  \n",
      "0  Military Patrol  Bronze  \n",
      "1  Military Patrol  Bronze  \n",
      "2  Military Patrol  Bronze  \n",
      "3  Military Patrol  Bronze  \n",
      "4  Military Patrol    Gold  \n"
     ]
    }
   ],
   "source": [
    "print(country_df.head())\n",
    "print(summer_df.head())\n",
    "print(winter_df.head())"
   ]
  },
  {
   "cell_type": "code",
   "execution_count": 5,
   "id": "ca0bd14c",
   "metadata": {},
   "outputs": [
    {
     "name": "stdout",
     "output_type": "stream",
     "text": [
      "   ID                      Name Sex   Age  Height  Weight            Team  \\\n",
      "0   1                 A Dijiang   M  24.0   180.0    80.0           China   \n",
      "1   2                  A Lamusi   M  23.0   170.0    60.0           China   \n",
      "2   3       Gunnar Nielsen Aaby   M  24.0     NaN     NaN         Denmark   \n",
      "3   4      Edgar Lindenau Aabye   M  34.0     NaN     NaN  Denmark/Sweden   \n",
      "4   5  Christine Jacoba Aaftink   F  21.0   185.0    82.0     Netherlands   \n",
      "\n",
      "   NOC        Games  Year  Season       City          Sport  \\\n",
      "0  CHN  1992 Summer  1992  Summer  Barcelona     Basketball   \n",
      "1  CHN  2012 Summer  2012  Summer     London           Judo   \n",
      "2  DEN  1920 Summer  1920  Summer  Antwerpen       Football   \n",
      "3  DEN  1900 Summer  1900  Summer      Paris     Tug-Of-War   \n",
      "4  NED  1988 Winter  1988  Winter    Calgary  Speed Skating   \n",
      "\n",
      "                              Event Medal  \n",
      "0       Basketball Men's Basketball   NaN  \n",
      "1      Judo Men's Extra-Lightweight   NaN  \n",
      "2           Football Men's Football   NaN  \n",
      "3       Tug-Of-War Men's Tug-Of-War  Gold  \n",
      "4  Speed Skating Women's 500 metres   NaN  \n"
     ]
    }
   ],
   "source": [
    "print(athlete_events.head())"
   ]
  },
  {
   "cell_type": "code",
   "execution_count": null,
   "id": "4bd2c706",
   "metadata": {},
   "outputs": [],
   "source": []
  }
 ],
 "metadata": {
  "kernelspec": {
   "display_name": "Python 3",
   "language": "python",
   "name": "python3"
  },
  "language_info": {
   "codemirror_mode": {
    "name": "ipython",
    "version": 3
   },
   "file_extension": ".py",
   "mimetype": "text/x-python",
   "name": "python",
   "nbconvert_exporter": "python",
   "pygments_lexer": "ipython3",
   "version": "3.8.8"
  }
 },
 "nbformat": 4,
 "nbformat_minor": 5
}
